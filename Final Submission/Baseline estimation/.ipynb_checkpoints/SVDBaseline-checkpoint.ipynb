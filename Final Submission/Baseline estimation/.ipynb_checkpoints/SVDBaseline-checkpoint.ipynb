{
 "cells": [
  {
   "cell_type": "markdown",
   "metadata": {},
   "source": [
    "# SVD Baseline Approximation"
   ]
  },
  {
   "cell_type": "code",
   "execution_count": 1,
   "metadata": {
    "collapsed": false
   },
   "outputs": [
    {
     "name": "stdout",
     "output_type": "stream",
     "text": [
      "150819\n",
      "37705\n"
     ]
    }
   ],
   "source": [
    "import csv\n",
    "import pandas as pd\n",
    "import numpy as np\n",
    "from sklearn.cross_validation import train_test_split\n",
    "df = pd.read_csv('..\\Data\\Input\\Phx_Rating.csv')\n",
    "train, test = train_test_split(df, test_size = 0.2)\n",
    "print len(train)\n",
    "print len(test)"
   ]
  },
  {
   "cell_type": "markdown",
   "metadata": {
    "collapsed": false
   },
   "source": [
    "#### Creating dictionaries of restaurants and users"
   ]
  },
  {
   "cell_type": "code",
   "execution_count": 2,
   "metadata": {
    "collapsed": false
   },
   "outputs": [],
   "source": [
    "restr_dict = {}\n",
    "user_dict = {}\n",
    "rest_cnt = 0\n",
    "user_cnt = 0\n",
    "for index, row in train.iterrows():\n",
    "    if row[0] not in user_dict:        \n",
    "        user_dict[row[0]] = user_cnt\n",
    "        user_cnt = user_cnt + 1\n",
    "    if row[2] not in restr_dict:        \n",
    "        restr_dict[row[2]] = rest_cnt\n",
    "        rest_cnt = rest_cnt + 1"
   ]
  },
  {
   "cell_type": "code",
   "execution_count": 3,
   "metadata": {
    "collapsed": false
   },
   "outputs": [
    {
     "name": "stdout",
     "output_type": "stream",
     "text": [
      "56778\n",
      "2921\n"
     ]
    }
   ],
   "source": [
    "print user_cnt\n",
    "print rest_cnt"
   ]
  },
  {
   "cell_type": "markdown",
   "metadata": {
    "collapsed": false
   },
   "source": [
    "#### Creating a numpy matrix"
   ]
  },
  {
   "cell_type": "code",
   "execution_count": 4,
   "metadata": {
    "collapsed": false
   },
   "outputs": [
    {
     "name": "stdout",
     "output_type": "stream",
     "text": [
      "(56778L, 2921L)\n"
     ]
    }
   ],
   "source": [
    "users_restr = np.zeros((int(len(user_dict)),int(len(restr_dict))))\n",
    "print users_restr.shape"
   ]
  },
  {
   "cell_type": "code",
   "execution_count": 5,
   "metadata": {
    "collapsed": true
   },
   "outputs": [],
   "source": [
    "for index, row in train.iterrows():\n",
    "    try:\n",
    "        users_restr[int(user_dict[row[0]]) , int(restr_dict[row[2]])] = row[3]\n",
    "    except Exception as e:\n",
    "        print e\n",
    "        continue"
   ]
  },
  {
   "cell_type": "markdown",
   "metadata": {},
   "source": [
    "#### Getting avg stars for each restaurant to make data dense"
   ]
  },
  {
   "cell_type": "code",
   "execution_count": 6,
   "metadata": {
    "collapsed": false
   },
   "outputs": [],
   "source": [
    "phx_business = open('..\\Data\\Input\\Restaurants_Phoenix.csv')\n",
    "phx_csv = csv.reader(phx_business)\n",
    "phx_data = list(phx_csv)\n",
    "r_avg_dict = {}\n",
    "header = True\n",
    "i = 1\n",
    "while i < len(phx_data):    \n",
    "    avg_rat = phx_data[i][61]    \n",
    "    b_id = phx_data[i][15]    \n",
    "    r_avg_dict[b_id] = float(avg_rat)\n",
    "    i = i + 1"
   ]
  },
  {
   "cell_type": "code",
   "execution_count": 7,
   "metadata": {
    "collapsed": false
   },
   "outputs": [
    {
     "name": "stdout",
     "output_type": "stream",
     "text": [
      "2925\n"
     ]
    }
   ],
   "source": [
    "print len(r_avg_dict)"
   ]
  },
  {
   "cell_type": "markdown",
   "metadata": {},
   "source": [
    "#### Replacing every 0 entry with restaurant average"
   ]
  },
  {
   "cell_type": "code",
   "execution_count": 8,
   "metadata": {
    "collapsed": false
   },
   "outputs": [],
   "source": [
    "for key in restr_dict:\n",
    "    i = 0\n",
    "    while i < user_cnt:\n",
    "        if users_restr[i][restr_dict[key]] == 0:\n",
    "            users_restr[i][restr_dict[key]] = r_avg_dict[key]\n",
    "        i = i + 1"
   ]
  },
  {
   "cell_type": "markdown",
   "metadata": {},
   "source": [
    "#### Finding avg user rating"
   ]
  },
  {
   "cell_type": "code",
   "execution_count": 9,
   "metadata": {
    "collapsed": false
   },
   "outputs": [],
   "source": [
    "u_avg_rat = {}\n",
    "# dict in the form of ['userid',(no. of reviews by the user, sum of all ratings)]\n",
    "\n",
    "for index, row in train.iterrows(): \n",
    "    if row[0] not in u_avg_rat:\n",
    "        u_avg_rat[row[0]] = (1 , int(row[3]))\n",
    "    else:\n",
    "        tup = u_avg_rat[row[0]]\n",
    "        new_tup = (tup[0] + 1 , tup[1] + int(row[3]))\n",
    "        u_avg_rat[row[0]] = new_tup"
   ]
  },
  {
   "cell_type": "code",
   "execution_count": 10,
   "metadata": {
    "collapsed": false
   },
   "outputs": [
    {
     "name": "stdout",
     "output_type": "stream",
     "text": [
      "Total no. of unique users = 56778\n"
     ]
    }
   ],
   "source": [
    "print \"Total no. of unique users = %d\" % len(u_avg_rat)\n",
    "#print u_avg_rat['t95D1tnWvAOy2sxXnI3GUA']"
   ]
  },
  {
   "cell_type": "markdown",
   "metadata": {},
   "source": [
    "#### Normalizing each element in the matrix by subtracting from avg user rating"
   ]
  },
  {
   "cell_type": "code",
   "execution_count": null,
   "metadata": {
    "collapsed": false
   },
   "outputs": [],
   "source": [
    "for key in user_dict:\n",
    "    i = 0\n",
    "    pos = user_dict[key]\n",
    "    tup = u_avg_rat[key]\n",
    "    user_avg_rating = tup[1] / tup[0]\n",
    "    while i < rest_cnt:\n",
    "        users_restr[pos][i] -= user_avg_rating            \n",
    "        i = i + 1"
   ]
  },
  {
   "cell_type": "markdown",
   "metadata": {},
   "source": [
    "#### Finally calculating the SVD"
   ]
  },
  {
   "cell_type": "code",
   "execution_count": null,
   "metadata": {
    "collapsed": false
   },
   "outputs": [],
   "source": [
    "U, s, V = np.linalg.svd(users_restr, full_matrices=False)"
   ]
  },
  {
   "cell_type": "code",
   "execution_count": null,
   "metadata": {
    "collapsed": false
   },
   "outputs": [],
   "source": [
    "print U.shape\n",
    "print s.shape\n",
    "print V.shape"
   ]
  },
  {
   "cell_type": "code",
   "execution_count": null,
   "metadata": {
    "collapsed": false
   },
   "outputs": [],
   "source": [
    "S = np.diag(s)\n",
    "print S.shape"
   ]
  },
  {
   "cell_type": "markdown",
   "metadata": {},
   "source": [
    "### Reducing to top k dimensions for a list of k values"
   ]
  },
  {
   "cell_type": "code",
   "execution_count": null,
   "metadata": {
    "collapsed": true
   },
   "outputs": [],
   "source": [
    "kvals = list(range(2,21))\n",
    "kvals.append(25)\n",
    "kvals.append(50)\n",
    "kvals.append(100)"
   ]
  },
  {
   "cell_type": "markdown",
   "metadata": {},
   "source": [
    "#### Predicting and calculating error"
   ]
  },
  {
   "cell_type": "code",
   "execution_count": null,
   "metadata": {
    "collapsed": false
   },
   "outputs": [],
   "source": [
    "all_rmse = []\n",
    "all_mae = []\n",
    "for DIM in kvals:\n",
    "    U1 = U[:, :DIM]\n",
    "    S1 = S[:DIM, :DIM]\n",
    "    V1 = V.T[:, :DIM].T\n",
    "    S12 = np.sqrt(S1)\n",
    "    A1 = np.dot(U1,S12)\n",
    "    A2 = np.dot(S12,V1)\n",
    "    meancnt = 0\n",
    "    mae_par = 0\n",
    "    rmse_par = 0\n",
    "    for index, row in test.iterrows(): \n",
    "        if row[0] in user_dict and row[2] in restr_dict:\n",
    "            meancnt += 1\n",
    "            actual = float(row[3])\n",
    "            pred = np.dot(A1[user_dict[row[0]],:] , A2[:,restr_dict[row[2]]])\n",
    "            tup = u_avg_rat[row[0]]\n",
    "            tup_avg = tup[1] / tup[0]\n",
    "            pred += tup_avg\n",
    "            rmse_par += (pred - actual) ** 2\n",
    "            mae_par += abs(pred - actual)\n",
    "    all_rmse.append((rmse_par / meancnt) ** 0.5)\n",
    "    all_mae.append(mae_par / meancnt)"
   ]
  },
  {
   "cell_type": "markdown",
   "metadata": {},
   "source": [
    "#### Printing out the errors, we get a min RMSE ~ 1.14 and min MAE ~ 0.89 for k ~ 5"
   ]
  },
  {
   "cell_type": "code",
   "execution_count": null,
   "metadata": {
    "collapsed": false
   },
   "outputs": [],
   "source": [
    "print all_rmse\n",
    "print all_mae\n",
    "print min(all_rmse)\n",
    "print min(all_mae)"
   ]
  },
  {
   "cell_type": "markdown",
   "metadata": {},
   "source": [
    "#### Plotting the k values v/s the MAE and RMSE. k = [ 2-21, 25, 50, 100]"
   ]
  },
  {
   "cell_type": "code",
   "execution_count": null,
   "metadata": {
    "collapsed": false
   },
   "outputs": [],
   "source": [
    "%matplotlib inline\n",
    "import matplotlib.patches as mpatches\n",
    "import matplotlib.pyplot as plt\n",
    "plt.plot(kvals , all_rmse, 'ro', kvals , all_mae, 'bo')\n",
    "plt.xlabel('k-vals')\n",
    "plt.ylabel('Error')\n",
    "red_patch = mpatches.Patch(color='red', label='RMSE')\n",
    "blue_patch = mpatches.Patch(color='blue', label='MAE')\n",
    "plt.legend(handles=[red_patch,blue_patch])\n",
    "plt.title('Error as a function of k values')\n",
    "plt.show()"
   ]
  },
  {
   "cell_type": "code",
   "execution_count": null,
   "metadata": {
    "collapsed": true
   },
   "outputs": [],
   "source": []
  }
 ],
 "metadata": {
  "kernelspec": {
   "display_name": "Python 2",
   "language": "python",
   "name": "python2"
  },
  "language_info": {
   "codemirror_mode": {
    "name": "ipython",
    "version": 2
   },
   "file_extension": ".py",
   "mimetype": "text/x-python",
   "name": "python",
   "nbconvert_exporter": "python",
   "pygments_lexer": "ipython2",
   "version": "2.7.11"
  }
 },
 "nbformat": 4,
 "nbformat_minor": 0
}
