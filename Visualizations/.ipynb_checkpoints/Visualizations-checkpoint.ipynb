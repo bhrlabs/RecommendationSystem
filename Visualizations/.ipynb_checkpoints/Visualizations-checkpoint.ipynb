{
 "metadata": {
  "name": "",
  "signature": "sha256:aafe7b02ca2f3f6153862ab50ae58b23cb3fbedf426696e70fe42d2f8612a716"
 },
 "nbformat": 3,
 "nbformat_minor": 0,
 "worksheets": [
  {
   "cells": [
    {
     "cell_type": "code",
     "collapsed": false,
     "input": [
      "# Creating simple visualizations\n",
      "%matplotlib inline\n",
      "import csv\n",
      "import pandas as pd\n",
      "import matplotlib.pyplot as plt\n",
      "df = pd.read_csv('..\\Data Files\\Phoenix\\Restaurants_Phoenix.csv', header=0)"
     ],
     "language": "python",
     "metadata": {},
     "outputs": [],
     "prompt_number": 31
    },
    {
     "cell_type": "code",
     "collapsed": false,
     "input": [
      "# 1. Counts of avg. star ratings of restaurants \n",
      "df.stars.hist()"
     ],
     "language": "python",
     "metadata": {},
     "outputs": [
      {
       "metadata": {},
       "output_type": "pyout",
       "prompt_number": 33,
       "text": [
        "<matplotlib.axes.AxesSubplot at 0xe69c828>"
       ]
      },
      {
       "metadata": {},
       "output_type": "display_data",
       "png": "[encoded data removed]",
       "text": [
        "<matplotlib.figure.Figure at 0xb5f5b70>"
       ]
      }
     ],
     "prompt_number": 33
    },
    {
     "cell_type": "code",
     "collapsed": false,
     "input": [],
     "language": "python",
     "metadata": {},
     "outputs": []
    }
   ],
   "metadata": {}
  }
 ]
}