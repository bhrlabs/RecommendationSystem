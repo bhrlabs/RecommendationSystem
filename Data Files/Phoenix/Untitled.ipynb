{
 "cells": [
  {
   "cell_type": "code",
   "execution_count": 3,
   "metadata": {
    "collapsed": false
   },
   "outputs": [],
   "source": [
    "import csv\n",
    "\n",
    "res_details = []\n",
    "with open('Restaurants_Phoenix.csv', 'rb') as inp, open('Restaurants_Details_PHX.csv', 'wb') as out:\n",
    "    writer = csv.writer(out)\n",
    "    for row in csv.reader(inp):\n",
    "        res_details = []\n",
    "        res_details.append(row[15])\n",
    "        res_details.append(row[23])\n",
    "        res_details.append(row[44])\n",
    "        writer.writerow(res_details)                   \n",
    "                            "
   ]
  },
  {
   "cell_type": "code",
   "execution_count": null,
   "metadata": {
    "collapsed": true
   },
   "outputs": [],
   "source": []
  }
 ],
 "metadata": {
  "kernelspec": {
   "display_name": "Python 2",
   "language": "python",
   "name": "python2"
  },
  "language_info": {
   "codemirror_mode": {
    "name": "ipython",
    "version": 2
   },
   "file_extension": ".py",
   "mimetype": "text/x-python",
   "name": "python",
   "nbconvert_exporter": "python",
   "pygments_lexer": "ipython2",
   "version": "2.7.11"
  }
 },
 "nbformat": 4,
 "nbformat_minor": 0
}
