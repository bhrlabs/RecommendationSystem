{
 "cells": [
  {
   "cell_type": "markdown",
   "metadata": {},
   "source": [
    "# SVD Baseline Approximation"
   ]
  },
  {
   "cell_type": "code",
   "execution_count": 1,
   "metadata": {
    "collapsed": false
   },
   "outputs": [
    {
     "name": "stdout",
     "output_type": "stream",
     "text": [
      "150819\n",
      "37705\n"
     ]
    }
   ],
   "source": [
    "import csv\n",
    "import pandas as pd\n",
    "import numpy as np\n",
    "from sklearn.cross_validation import train_test_split\n",
    "df = pd.read_csv('phx_rating.csv')\n",
    "train, test = train_test_split(df, test_size = 0.2)\n",
    "print len(train)\n",
    "print len(test)"
   ]
  },
  {
   "cell_type": "markdown",
   "metadata": {
    "collapsed": false
   },
   "source": [
    "#### Creating dictionaries of restaurants and users"
   ]
  },
  {
   "cell_type": "code",
   "execution_count": 2,
   "metadata": {
    "collapsed": false
   },
   "outputs": [],
   "source": [
    "restr_dict = {}\n",
    "user_dict = {}\n",
    "rest_cnt = 0\n",
    "user_cnt = 0\n",
    "for index, row in train.iterrows():\n",
    "    if row[0] not in user_dict:        \n",
    "        user_dict[row[0]] = user_cnt\n",
    "        user_cnt = user_cnt + 1\n",
    "    if row[2] not in restr_dict:        \n",
    "        restr_dict[row[2]] = rest_cnt\n",
    "        rest_cnt = rest_cnt + 1"
   ]
  },
  {
   "cell_type": "code",
   "execution_count": 3,
   "metadata": {
    "collapsed": false
   },
   "outputs": [
    {
     "name": "stdout",
     "output_type": "stream",
     "text": [
      "56763\n",
      "2920\n"
     ]
    }
   ],
   "source": [
    "print user_cnt\n",
    "print rest_cnt"
   ]
  },
  {
   "cell_type": "markdown",
   "metadata": {
    "collapsed": false
   },
   "source": [
    "#### Creating a numpy matrix"
   ]
  },
  {
   "cell_type": "code",
   "execution_count": 4,
   "metadata": {
    "collapsed": false
   },
   "outputs": [
    {
     "name": "stdout",
     "output_type": "stream",
     "text": [
      "(56763L, 2920L)\n"
     ]
    }
   ],
   "source": [
    "users_restr = np.zeros((int(len(user_dict)),int(len(restr_dict))))\n",
    "print users_restr.shape"
   ]
  },
  {
   "cell_type": "code",
   "execution_count": 5,
   "metadata": {
    "collapsed": true
   },
   "outputs": [],
   "source": [
    "for index, row in train.iterrows():\n",
    "    try:\n",
    "        users_restr[int(user_dict[row[0]]) , int(restr_dict[row[2]])] = row[3]\n",
    "    except Exception as e:\n",
    "        print e\n",
    "        continue"
   ]
  },
  {
   "cell_type": "markdown",
   "metadata": {},
   "source": [
    "#### Getting avg stars for each restaurant to make data dense"
   ]
  },
  {
   "cell_type": "code",
   "execution_count": 6,
   "metadata": {
    "collapsed": false
   },
   "outputs": [],
   "source": [
    "phx_business = open('../Data files/Phoenix/Restaurants_Phoenix.csv')\n",
    "phx_csv = csv.reader(phx_business)\n",
    "phx_data = list(phx_csv)\n",
    "r_avg_dict = {}\n",
    "header = True\n",
    "i = 1\n",
    "while i < len(phx_data):    \n",
    "    avg_rat = phx_data[i][61]    \n",
    "    b_id = phx_data[i][15]    \n",
    "    r_avg_dict[b_id] = float(avg_rat)\n",
    "    i = i + 1"
   ]
  },
  {
   "cell_type": "code",
   "execution_count": 7,
   "metadata": {
    "collapsed": false
   },
   "outputs": [
    {
     "name": "stdout",
     "output_type": "stream",
     "text": [
      "2925\n"
     ]
    }
   ],
   "source": [
    "print len(r_avg_dict)"
   ]
  },
  {
   "cell_type": "markdown",
   "metadata": {},
   "source": [
    "#### Replacing every 0 entry with restaurant average"
   ]
  },
  {
   "cell_type": "code",
   "execution_count": 8,
   "metadata": {
    "collapsed": false
   },
   "outputs": [],
   "source": [
    "for key in restr_dict:\n",
    "    i = 0\n",
    "    while i < user_cnt:\n",
    "        if users_restr[i][restr_dict[key]] == 0:\n",
    "            users_restr[i][restr_dict[key]] = r_avg_dict[key]\n",
    "        i = i + 1"
   ]
  },
  {
   "cell_type": "markdown",
   "metadata": {},
   "source": [
    "#### Finding avg user rating"
   ]
  },
  {
   "cell_type": "code",
   "execution_count": 9,
   "metadata": {
    "collapsed": false
   },
   "outputs": [],
   "source": [
    "u_avg_rat = {}\n",
    "# dict in the form of ['userid',(no. of reviews by the user, sum of all ratings)]\n",
    "\n",
    "for index, row in train.iterrows(): \n",
    "    if row[0] not in u_avg_rat:\n",
    "        u_avg_rat[row[0]] = (1 , int(row[3]))\n",
    "    else:\n",
    "        tup = u_avg_rat[row[0]]\n",
    "        new_tup = (tup[0] + 1 , tup[1] + int(row[3]))\n",
    "        u_avg_rat[row[0]] = new_tup"
   ]
  },
  {
   "cell_type": "code",
   "execution_count": 10,
   "metadata": {
    "collapsed": false
   },
   "outputs": [
    {
     "name": "stdout",
     "output_type": "stream",
     "text": [
      "Total no. of unique users = 56763\n"
     ]
    }
   ],
   "source": [
    "print \"Total no. of unique users = %d\" % len(u_avg_rat)\n",
    "#print u_avg_rat['t95D1tnWvAOy2sxXnI3GUA']"
   ]
  },
  {
   "cell_type": "markdown",
   "metadata": {},
   "source": [
    "#### Normalizing each element in the matrix by subtracting from avg user rating"
   ]
  },
  {
   "cell_type": "code",
   "execution_count": 11,
   "metadata": {
    "collapsed": false
   },
   "outputs": [],
   "source": [
    "for key in user_dict:\n",
    "    i = 0\n",
    "    pos = user_dict[key]\n",
    "    tup = u_avg_rat[key]\n",
    "    user_avg_rating = tup[1] / tup[0]\n",
    "    while i < rest_cnt:\n",
    "        users_restr[pos][i] -= user_avg_rating            \n",
    "        i = i + 1"
   ]
  },
  {
   "cell_type": "markdown",
   "metadata": {},
   "source": [
    "#### Finally calculating the SVD"
   ]
  },
  {
   "cell_type": "code",
   "execution_count": 12,
   "metadata": {
    "collapsed": false
   },
   "outputs": [],
   "source": [
    "U, s, V = np.linalg.svd(users_restr, full_matrices=False)"
   ]
  },
  {
   "cell_type": "code",
   "execution_count": 13,
   "metadata": {
    "collapsed": false
   },
   "outputs": [
    {
     "name": "stdout",
     "output_type": "stream",
     "text": [
      "(56763L, 2920L)\n",
      "(2920L,)\n",
      "(2920L, 2920L)\n"
     ]
    }
   ],
   "source": [
    "print U.shape\n",
    "print s.shape\n",
    "print V.shape"
   ]
  },
  {
   "cell_type": "code",
   "execution_count": 14,
   "metadata": {
    "collapsed": false
   },
   "outputs": [
    {
     "name": "stdout",
     "output_type": "stream",
     "text": [
      "(2920L, 2920L)\n"
     ]
    }
   ],
   "source": [
    "S = np.diag(s)\n",
    "print S.shape"
   ]
  },
  {
   "cell_type": "markdown",
   "metadata": {},
   "source": [
    "### Reducing to top k dimensions for a list of k values"
   ]
  },
  {
   "cell_type": "code",
   "execution_count": 33,
   "metadata": {
    "collapsed": true
   },
   "outputs": [],
   "source": [
    "kvals = list(range(2,21))\n",
    "kvals.append(25)\n",
    "kvals.append(50)\n",
    "kvals.append(100)"
   ]
  },
  {
   "cell_type": "markdown",
   "metadata": {},
   "source": [
    "#### Predicting and calculating error"
   ]
  },
  {
   "cell_type": "code",
   "execution_count": 34,
   "metadata": {
    "collapsed": false
   },
   "outputs": [],
   "source": [
    "all_rmse = []\n",
    "all_mae = []\n",
    "for DIM in kvals:\n",
    "    U1 = U[:, :DIM]\n",
    "    S1 = S[:DIM, :DIM]\n",
    "    V1 = V.T[:, :DIM].T\n",
    "    S12 = np.sqrt(S1)\n",
    "    A1 = np.dot(U1,S12)\n",
    "    A2 = np.dot(S12,V1)\n",
    "    meancnt = 0\n",
    "    mae_par = 0\n",
    "    rmse_par = 0\n",
    "    for index, row in test.iterrows(): \n",
    "        if row[0] in user_dict and row[2] in restr_dict:\n",
    "            meancnt += 1\n",
    "            actual = float(row[3])\n",
    "            pred = np.dot(A1[user_dict[row[0]],:] , A2[:,restr_dict[row[2]]])\n",
    "            tup = u_avg_rat[row[0]]\n",
    "            tup_avg = tup[1] / tup[0]\n",
    "            pred += tup_avg\n",
    "            rmse_par += (pred - actual) ** 2\n",
    "            mae_par += abs(pred - actual)\n",
    "    all_rmse.append((rmse_par / meancnt) ** 0.5)\n",
    "    all_mae.append(mae_par / meancnt)"
   ]
  },
  {
   "cell_type": "markdown",
   "metadata": {},
   "source": [
    "#### Printing out the errors, we get a min RMSE ~ 1.14 and min MAE ~ 0.89 for k ~ 5"
   ]
  },
  {
   "cell_type": "code",
   "execution_count": 35,
   "metadata": {
    "collapsed": false
   },
   "outputs": [
    {
     "name": "stdout",
     "output_type": "stream",
     "text": [
      "[1.1394005870862511, 1.1393159862259281, 1.1391806465582728, 1.1388465182661744, 1.1388307869891934, 1.1389103398794436, 1.1390591587746193, 1.1391418144942071, 1.1389996219822209, 1.1390471217151021, 1.1392626689420129, 1.1394920518822864, 1.1395229006896261, 1.1397072492324603, 1.1397612218106148, 1.1400325082755105, 1.1402941513473197, 1.1405743648434958, 1.1406443588428552, 1.1409979006273605, 1.1412432070406773, 1.1424445172441011]\n",
      "[0.88972375399545645, 0.88966572814024925, 0.88949052880368662, 0.8893243644666744, 0.88932784223602501, 0.88933297098379549, 0.88948073901955005, 0.88968821484699312, 0.88958599996488885, 0.88957111267333866, 0.88998150953824162, 0.89031995901543293, 0.89058493388608917, 0.89064606174196959, 0.8906729439401545, 0.89081348131449567, 0.89094122090434924, 0.89098913119035328, 0.89098233225758416, 0.8911929696824773, 0.89119641144054551, 0.8907623689399462]\n",
      "1.13883078699\n",
      "0.889324364467\n"
     ]
    }
   ],
   "source": [
    "print all_rmse\n",
    "print all_mae\n",
    "print min(all_rmse)\n",
    "print min(all_mae)"
   ]
  },
  {
   "cell_type": "markdown",
   "metadata": {},
   "source": [
    "#### Plotting the k values v/s the MAE and RMSE. k = [ 2-21, 25, 50, 100]"
   ]
  },
  {
   "cell_type": "code",
   "execution_count": 40,
   "metadata": {
    "collapsed": false
   },
   "outputs": [
    {
     "data": {
      "image/png": "[encoded data removed]",
      "text/plain": [
       "<matplotlib.figure.Figure at 0x1d53ab38>"
      ]
     },
     "metadata": {},
     "output_type": "display_data"
    }
   ],
   "source": [
    "%matplotlib inline\n",
    "import matplotlib.patches as mpatches\n",
    "import matplotlib.pyplot as plt\n",
    "plt.plot(kvals , all_rmse, 'ro', kvals , all_mae, 'bo')\n",
    "plt.xlabel('k-vals')\n",
    "plt.ylabel('Error')\n",
    "red_patch = mpatches.Patch(color='red', label='RMSE')\n",
    "blue_patch = mpatches.Patch(color='blue', label='MAE')\n",
    "plt.legend(handles=[red_patch,blue_patch])\n",
    "plt.title('Error as a function of k values')\n",
    "plt.show()"
   ]
  },
  {
   "cell_type": "code",
   "execution_count": null,
   "metadata": {
    "collapsed": true
   },
   "outputs": [],
   "source": []
  }
 ],
 "metadata": {
  "kernelspec": {
   "display_name": "Python 2",
   "language": "python",
   "name": "python2"
  },
  "language_info": {
   "codemirror_mode": {
    "name": "ipython",
    "version": 2
   },
   "file_extension": ".py",
   "mimetype": "text/x-python",
   "name": "python",
   "nbconvert_exporter": "python",
   "pygments_lexer": "ipython2",
   "version": "2.7.11"
  }
 },
 "nbformat": 4,
 "nbformat_minor": 0
}
