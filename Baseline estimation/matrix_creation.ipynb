{
 "cells": [
  {
   "cell_type": "code",
   "execution_count": 67,
   "metadata": {
    "collapsed": false
   },
   "outputs": [],
   "source": [
    "# Creating a matrix User x Business for content based filtering\n",
    "# Dimensions - 64968 * 2926\n",
    "import pandas as pd\n",
    "import numpy as np\n",
    "import csv\n",
    "from sets import Set\n",
    "# Storing all Phoenix-specific reviews\n",
    "df = pd.read_csv('C:\\SMLProj\\RecommendationSystem\\Baseline estimation\\phx_rating.csv')"
   ]
  },
  {
   "cell_type": "code",
   "execution_count": null,
   "metadata": {
    "collapsed": true
   },
   "outputs": [],
   "source": []
  },
  {
   "cell_type": "code",
   "execution_count": 68,
   "metadata": {
    "collapsed": false
   },
   "outputs": [
    {
     "name": "stdout",
     "output_type": "stream",
     "text": [
      "Total no. of unique restaurants = 2926\n"
     ]
    }
   ],
   "source": [
    "# 1. Creating a dictionary of Phoenix restaurants\n",
    "phx_business = open('C:\\Yelp\\phx.csv')\n",
    "phx_csv = csv.reader(phx_business)\n",
    "phx_data = list(phx_csv)\n",
    "restr_dict = {}\n",
    "# Dictionary format ['business_id', matrix column number]\n",
    "i = 0\n",
    "while i < len(phx_data):\n",
    "    restr_dict[phx_data[i][15]] = i    \n",
    "    i = i + 1\n",
    "print \"Total no. of unique restaurants = %d\" % len(restr_dict)"
   ]
  },
  {
   "cell_type": "code",
   "execution_count": 69,
   "metadata": {
    "collapsed": false
   },
   "outputs": [
    {
     "name": "stdout",
     "output_type": "stream",
     "text": [
      "Total no. of unique users = 64968\n"
     ]
    }
   ],
   "source": [
    "# 2. Creating a dictionary of Phoenix users\n",
    "user_dict = {}\n",
    "first = False\n",
    "j = 0\n",
    "# Dictionary format ['user_id', matrix row number]\n",
    "for index, row in df.iterrows():\n",
    "    #ignoring 1st row\n",
    "    if first is False:\n",
    "        first = True\n",
    "        continue\n",
    "    if row[0] not in user_dict:\n",
    "        user_dict[row[0]] = j\n",
    "        j = j + 1    \n",
    "print \"Total no. of unique users = %d\" % len(user_dict)\n",
    "# A sample entry\n",
    "# print user_dict['t95D1tnWvAOy2sxXnI3GUA']"
   ]
  },
  {
   "cell_type": "code",
   "execution_count": 51,
   "metadata": {
    "collapsed": false
   },
   "outputs": [
    {
     "name": "stdout",
     "output_type": "stream",
     "text": [
      "(64968L, 2926L)\n"
     ]
    }
   ],
   "source": [
    "# 3. Create a numpy matrix\n",
    "\n",
    "users_restr = np.zeros((int(len(user_dict)),int(len(restr_dict))))\n",
    "print users_restr.shape"
   ]
  },
  {
   "cell_type": "code",
   "execution_count": 70,
   "metadata": {
    "collapsed": false
   },
   "outputs": [],
   "source": [
    "# 4. Run through Phoenix reviews, create the matrix\n",
    "for index, row in df.iterrows():\n",
    "    users_restr[int(user_dict[row[0]]) , int(restr_dict[row[2]])] = row[3]"
   ]
  },
  {
   "cell_type": "code",
   "execution_count": 71,
   "metadata": {
    "collapsed": false
   },
   "outputs": [
    {
     "name": "stdout",
     "output_type": "stream",
     "text": [
      "[ 0.  3.  0. ...,  0.  0.  0.]\n"
     ]
    }
   ],
   "source": [
    "print users_restr[2]"
   ]
  },
  {
   "cell_type": "code",
   "execution_count": 66,
   "metadata": {
    "collapsed": false
   },
   "outputs": [],
   "source": [
    "# 5. Creating a CSV file of the matrix\n",
    "# takes ~ 4GB\n",
    "# np.savetxt(\"user_restr_matrix.csv\", users_restr, delimiter=\",\")"
   ]
  }
 ],
 "metadata": {
  "kernelspec": {
   "display_name": "Python 2",
   "language": "python",
   "name": "python2"
  },
  "language_info": {
   "codemirror_mode": {
    "name": "ipython",
    "version": 2
   },
   "file_extension": ".py",
   "mimetype": "text/x-python",
   "name": "python",
   "nbconvert_exporter": "python",
   "pygments_lexer": "ipython2",
   "version": "2.7.11"
  }
 },
 "nbformat": 4,
 "nbformat_minor": 0
}
