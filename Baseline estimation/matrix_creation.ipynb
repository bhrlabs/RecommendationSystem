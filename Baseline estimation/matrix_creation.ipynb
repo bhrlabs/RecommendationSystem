{
 "cells": [
  {
   "cell_type": "code",
   "execution_count": 94,
   "metadata": {
    "collapsed": false
   },
   "outputs": [],
   "source": [
    "# Creating a matrix User x Business for content based filtering\n",
    "# Dimensions - 64968 * 2926\n",
    "import pandas as pd\n",
    "import numpy as np\n",
    "import csv\n",
    "from sets import Set\n",
    "# Storing all Phoenix-specific reviews\n",
    "df = pd.read_csv('phx_rating.csv')"
   ]
  },
  {
   "cell_type": "code",
   "execution_count": null,
   "metadata": {
    "collapsed": true
   },
   "outputs": [],
   "source": []
  },
  {
   "cell_type": "code",
   "execution_count": 107,
   "metadata": {
    "collapsed": false,
    "scrolled": true
   },
   "outputs": [
    {
     "name": "stdout",
     "output_type": "stream",
     "text": [
      "Total no. of unique restaurants = 2925\n"
     ]
    }
   ],
   "source": [
    "# 1. Creating a dictionary of Phoenix restaurants\n",
    "phx_business = open('../Data files/Phoenix/Restaurants_Phoenix.csv')\n",
    "phx_csv = csv.reader(phx_business)\n",
    "phx_data = list(phx_csv)\n",
    "restr_dict = {}\n",
    "# Dictionary format ['business_id', matrix column number]\n",
    "i = 0 \n",
    "# Corrected to ignore header\n",
    "header = True\n",
    "while i < len(phx_data) - 1:\n",
    "    if header:\n",
    "        header = False\n",
    "        continue\n",
    "    restr_dict[phx_data[i + 1][15]] = i\n",
    "    i = i + 1\n",
    "print \"Total no. of unique restaurants = %d\" % len(restr_dict)\n"
   ]
  },
  {
   "cell_type": "code",
   "execution_count": 110,
   "metadata": {
    "collapsed": false
   },
   "outputs": [
    {
     "ename": "KeyError",
     "evalue": "'business_id'",
     "output_type": "error",
     "traceback": [
      "\u001b[1;31m---------------------------------------------------------------------------\u001b[0m",
      "\u001b[1;31mKeyError\u001b[0m                                  Traceback (most recent call last)",
      "\u001b[1;32m<ipython-input-110-532d3c685578>\u001b[0m in \u001b[0;36m<module>\u001b[1;34m()\u001b[0m\n\u001b[0;32m      1\u001b[0m \u001b[1;31m# Sanity check: Should throw error\u001b[0m\u001b[1;33m\u001b[0m\u001b[1;33m\u001b[0m\u001b[0m\n\u001b[1;32m----> 2\u001b[1;33m \u001b[0mrestr_dict\u001b[0m\u001b[1;33m[\u001b[0m\u001b[1;34m'business_id'\u001b[0m\u001b[1;33m]\u001b[0m\u001b[1;33m\u001b[0m\u001b[0m\n\u001b[0m\u001b[0;32m      3\u001b[0m \u001b[0mrestr_dict\u001b[0m\u001b[1;33m[\u001b[0m\u001b[1;34m'#NAME?'\u001b[0m\u001b[1;33m]\u001b[0m\u001b[1;33m\u001b[0m\u001b[0m\n",
      "\u001b[1;31mKeyError\u001b[0m: 'business_id'"
     ]
    }
   ],
   "source": [
    "# Sanity check: Should throw error\n",
    "restr_dict['business_id']\n",
    "restr_dict['#NAME?']\n"
   ]
  },
  {
   "cell_type": "code",
   "execution_count": 91,
   "metadata": {
    "collapsed": false
   },
   "outputs": [
    {
     "name": "stdout",
     "output_type": "stream",
     "text": [
      "Total no. of unique users = 64968\n"
     ]
    }
   ],
   "source": [
    "# 2. Creating a dictionary of Phoenix users\n",
    "user_dict = {}\n",
    "first = False\n",
    "j = 0\n",
    "# Dictionary format ['user_id', matrix row number]\n",
    "for index, row in df.iterrows():\n",
    "    #ignoring 1st row\n",
    "    if first is False:\n",
    "        first = True\n",
    "        continue\n",
    "    if row[0] not in user_dict:\n",
    "        user_dict[row[0]] = j\n",
    "        j = j + 1    \n",
    "print \"Total no. of unique users = %d\" % len(user_dict)\n",
    "# A sample entry\n",
    "# print user_dict['t95D1tnWvAOy2sxXnI3GUA']"
   ]
  },
  {
   "cell_type": "code",
   "execution_count": 111,
   "metadata": {
    "collapsed": false
   },
   "outputs": [
    {
     "name": "stdout",
     "output_type": "stream",
     "text": [
      "(64968L, 2925L)\n"
     ]
    }
   ],
   "source": [
    "# 3. Create a numpy matrix\n",
    "\n",
    "users_restr = np.zeros((int(len(user_dict)),int(len(restr_dict))))\n",
    "print users_restr.shape"
   ]
  },
  {
   "cell_type": "code",
   "execution_count": 96,
   "metadata": {
    "collapsed": false
   },
   "outputs": [
    {
     "ename": "KeyError",
     "evalue": "'=-OMlS6yWkYjVldNhC31wYg'",
     "output_type": "error",
     "traceback": [
      "\u001b[1;31m---------------------------------------------------------------------------\u001b[0m",
      "\u001b[1;31mKeyError\u001b[0m                                  Traceback (most recent call last)",
      "\u001b[1;32m<ipython-input-96-f8f449c79950>\u001b[0m in \u001b[0;36m<module>\u001b[1;34m()\u001b[0m\n\u001b[0;32m      1\u001b[0m \u001b[1;31m# 4. Run through Phoenix reviews, create the matrix\u001b[0m\u001b[1;33m\u001b[0m\u001b[1;33m\u001b[0m\u001b[0m\n\u001b[0;32m      2\u001b[0m \u001b[1;32mfor\u001b[0m \u001b[0mindex\u001b[0m\u001b[1;33m,\u001b[0m \u001b[0mrow\u001b[0m \u001b[1;32min\u001b[0m \u001b[0mdf\u001b[0m\u001b[1;33m.\u001b[0m\u001b[0miterrows\u001b[0m\u001b[1;33m(\u001b[0m\u001b[1;33m)\u001b[0m\u001b[1;33m:\u001b[0m\u001b[1;33m\u001b[0m\u001b[0m\n\u001b[1;32m----> 3\u001b[1;33m     \u001b[0musers_restr\u001b[0m\u001b[1;33m[\u001b[0m\u001b[0mint\u001b[0m\u001b[1;33m(\u001b[0m\u001b[0muser_dict\u001b[0m\u001b[1;33m[\u001b[0m\u001b[0mrow\u001b[0m\u001b[1;33m[\u001b[0m\u001b[1;36m0\u001b[0m\u001b[1;33m]\u001b[0m\u001b[1;33m]\u001b[0m\u001b[1;33m)\u001b[0m \u001b[1;33m,\u001b[0m \u001b[0mint\u001b[0m\u001b[1;33m(\u001b[0m\u001b[0mrestr_dict\u001b[0m\u001b[1;33m[\u001b[0m\u001b[0mrow\u001b[0m\u001b[1;33m[\u001b[0m\u001b[1;36m2\u001b[0m\u001b[1;33m]\u001b[0m\u001b[1;33m]\u001b[0m\u001b[1;33m)\u001b[0m\u001b[1;33m]\u001b[0m \u001b[1;33m=\u001b[0m \u001b[0mrow\u001b[0m\u001b[1;33m[\u001b[0m\u001b[1;36m3\u001b[0m\u001b[1;33m]\u001b[0m\u001b[1;33m\u001b[0m\u001b[0m\n\u001b[0m",
      "\u001b[1;31mKeyError\u001b[0m: '=-OMlS6yWkYjVldNhC31wYg'"
     ]
    }
   ],
   "source": [
    "# 4. Run through Phoenix reviews, create the matrix\n",
    "for index, row in df.iterrows():\n",
    "    users_restr[int(user_dict[row[0]]) , int(restr_dict[row[2]])] = row[3]"
   ]
  },
  {
   "cell_type": "code",
   "execution_count": 113,
   "metadata": {
    "collapsed": false
   },
   "outputs": [
    {
     "ename": "KeyError",
     "evalue": "'=-OMlS6yWkYjVldNhC31wYg'",
     "output_type": "error",
     "traceback": [
      "\u001b[1;31m---------------------------------------------------------------------------\u001b[0m",
      "\u001b[1;31mKeyError\u001b[0m                                  Traceback (most recent call last)",
      "\u001b[1;32m<ipython-input-113-1e5cd608c471>\u001b[0m in \u001b[0;36m<module>\u001b[1;34m()\u001b[0m\n\u001b[1;32m----> 1\u001b[1;33m \u001b[0muser_dict\u001b[0m\u001b[1;33m[\u001b[0m\u001b[1;34m'=-OMlS6yWkYjVldNhC31wYg'\u001b[0m\u001b[1;33m]\u001b[0m\u001b[1;33m\u001b[0m\u001b[0m\n\u001b[0m",
      "\u001b[1;31mKeyError\u001b[0m: '=-OMlS6yWkYjVldNhC31wYg'"
     ]
    }
   ],
   "source": [
    "restr_dict['=-OMlS6yWkYjVldNhC31wYg']"
   ]
  },
  {
   "cell_type": "code",
   "execution_count": 48,
   "metadata": {
    "collapsed": false
   },
   "outputs": [
    {
     "name": "stdout",
     "output_type": "stream",
     "text": [
      "[ 0.  4.  0. ...,  0.  0.  0.]\n",
      "<type 'numpy.float64'>\n"
     ]
    }
   ],
   "source": [
    "print users_restr[0]\n",
    "print type(users_restr[0][0])\n",
    "\n"
   ]
  },
  {
   "cell_type": "code",
   "execution_count": 9,
   "metadata": {
    "collapsed": false
   },
   "outputs": [
    {
     "ename": "IOError",
     "evalue": "[Errno 0] Error",
     "output_type": "error",
     "traceback": [
      "\u001b[1;31m---------------------------------------------------------------------------\u001b[0m",
      "\u001b[1;31mIOError\u001b[0m                                   Traceback (most recent call last)",
      "\u001b[1;32m<ipython-input-9-6b18103d9b41>\u001b[0m in \u001b[0;36m<module>\u001b[1;34m()\u001b[0m\n\u001b[0;32m      1\u001b[0m \u001b[1;31m# 5. Creating a CSV file of the matrix\u001b[0m\u001b[1;33m\u001b[0m\u001b[1;33m\u001b[0m\u001b[0m\n\u001b[0;32m      2\u001b[0m \u001b[1;31m# takes ~ 4GB\u001b[0m\u001b[1;33m\u001b[0m\u001b[1;33m\u001b[0m\u001b[0m\n\u001b[1;32m----> 3\u001b[1;33m \u001b[0mnp\u001b[0m\u001b[1;33m.\u001b[0m\u001b[0msavetxt\u001b[0m\u001b[1;33m(\u001b[0m\u001b[1;34m\"user_restr_matrix.csv\"\u001b[0m\u001b[1;33m,\u001b[0m \u001b[0musers_restr\u001b[0m\u001b[1;33m,\u001b[0m \u001b[0mdelimiter\u001b[0m\u001b[1;33m=\u001b[0m\u001b[1;34m\",\"\u001b[0m\u001b[1;33m)\u001b[0m\u001b[1;33m\u001b[0m\u001b[0m\n\u001b[0m",
      "\u001b[1;32mF:\\Programs\\Anaconda\\lib\\site-packages\\numpy\\lib\\npyio.pyc\u001b[0m in \u001b[0;36msavetxt\u001b[1;34m(fname, X, fmt, delimiter, newline, header, footer, comments)\u001b[0m\n\u001b[0;32m   1038\u001b[0m         \u001b[1;32melse\u001b[0m\u001b[1;33m:\u001b[0m\u001b[1;33m\u001b[0m\u001b[0m\n\u001b[0;32m   1039\u001b[0m             \u001b[1;32mfor\u001b[0m \u001b[0mrow\u001b[0m \u001b[1;32min\u001b[0m \u001b[0mX\u001b[0m\u001b[1;33m:\u001b[0m\u001b[1;33m\u001b[0m\u001b[0m\n\u001b[1;32m-> 1040\u001b[1;33m                 \u001b[0mfh\u001b[0m\u001b[1;33m.\u001b[0m\u001b[0mwrite\u001b[0m\u001b[1;33m(\u001b[0m\u001b[0masbytes\u001b[0m\u001b[1;33m(\u001b[0m\u001b[0mformat\u001b[0m \u001b[1;33m%\u001b[0m \u001b[0mtuple\u001b[0m\u001b[1;33m(\u001b[0m\u001b[0mrow\u001b[0m\u001b[1;33m)\u001b[0m \u001b[1;33m+\u001b[0m \u001b[0mnewline\u001b[0m\u001b[1;33m)\u001b[0m\u001b[1;33m)\u001b[0m\u001b[1;33m\u001b[0m\u001b[0m\n\u001b[0m\u001b[0;32m   1041\u001b[0m         \u001b[1;32mif\u001b[0m \u001b[0mlen\u001b[0m\u001b[1;33m(\u001b[0m\u001b[0mfooter\u001b[0m\u001b[1;33m)\u001b[0m \u001b[1;33m>\u001b[0m \u001b[1;36m0\u001b[0m\u001b[1;33m:\u001b[0m\u001b[1;33m\u001b[0m\u001b[0m\n\u001b[0;32m   1042\u001b[0m             \u001b[0mfooter\u001b[0m \u001b[1;33m=\u001b[0m \u001b[0mfooter\u001b[0m\u001b[1;33m.\u001b[0m\u001b[0mreplace\u001b[0m\u001b[1;33m(\u001b[0m\u001b[1;34m'\\n'\u001b[0m\u001b[1;33m,\u001b[0m \u001b[1;34m'\\n'\u001b[0m \u001b[1;33m+\u001b[0m \u001b[0mcomments\u001b[0m\u001b[1;33m)\u001b[0m\u001b[1;33m\u001b[0m\u001b[0m\n",
      "\u001b[1;31mIOError\u001b[0m: [Errno 0] Error"
     ]
    }
   ],
   "source": [
    "# 5. Creating a CSV file of the matrix\n",
    "# takes ~ 4GB\n",
    "np.savetxt(\"user_restr_matrix.csv\", users_restr, delimiter=\",\")"
   ]
  },
  {
   "cell_type": "code",
   "execution_count": null,
   "metadata": {
    "collapsed": true
   },
   "outputs": [],
   "source": [
    "# Creating the business feature matrix.\n",
    "# 1. Sort the business_id based on position in numpy array\n",
    "import operator\n",
    "\n",
    "ordered_restr_dict = sorted(ordered_restr_dict.items(), key=operator.itemgetter(1))"
   ]
  },
  {
   "cell_type": "code",
   "execution_count": 65,
   "metadata": {
    "collapsed": true
   },
   "outputs": [],
   "source": [
    "# 2. Build a dictionary with business_id as key\n",
    "\n",
    "# Tried with csv to load, failed for some values\n",
    "# phx_business_dense = open('../Data files/Phoenix/restaurants_dense.csv')\n",
    "# reader = csv.reader(phx_business_dense)\n",
    "\n",
    "# #Skip header\n",
    "# reader.next()\n",
    "# # restr_ dict {'business_id': All dense features(Entire row)}\n",
    "# restr_dict = {}\n",
    "\n",
    "# for row in reader:\n",
    "#     #row[5] is business_id\n",
    "#     restr_dict[row[5]] = row\n",
    "\n",
    "\n",
    "# Trying with dataframe\n",
    "\n",
    "import pandas as pd\n",
    "\n",
    "business_feature_df = pd.read_csv('../Data files/Phoenix/restaurants_dense.csv')\n"
   ]
  },
  {
   "cell_type": "code",
   "execution_count": 73,
   "metadata": {
    "collapsed": false
   },
   "outputs": [],
   "source": [
    "business_feature_df.head()\n",
    "# estr_ dict {'business_id': All dense features(Entire row)}\n",
    "restr_dict = {}\n",
    "for idx, row in business_feature_df.iterrows():\n",
    "    restr_dict[row['business_id']] = row\n"
   ]
  },
  {
   "cell_type": "code",
   "execution_count": 82,
   "metadata": {
    "collapsed": false
   },
   "outputs": [
    {
     "name": "stdout",
     "output_type": "stream",
     "text": [
      "2878\n",
      "#NAME?\n"
     ]
    },
    {
     "data": {
      "text/plain": [
       "\"\\n'-lOSaCuBRAvX5JBifx-EMw'\\n'-AAig9FG0s8gYE4f8GfowQ'\\n'-S7aL8dVIiXjCdbTZVn8uA'\\n'-yPdEze6bYRV2Sm1t4XJhg'\\n'-SS0C3OoPhVVBFCFfDWB2A'\\n'-nHYKkSJuQ7zzFZ1veRfPg'\\n'-KZA7UoULw_pM3jBBUzb8A'\\n'-d1I0dwtCg1IIjnI3DZ38Q'\\n'-Ogv7rpcgUHkFaSy3vD8Sw'\\n'-gefwOTDqW9HWGDvWBPSMQ'\\n'-mz0Zr0Dw6ZASg7_ah1R8A'\\n'-KEU36ohRQb19mrbA65Y3Q'\\n'-yzl8Zm-MmSqx31VN7vB0Q'\\n'-yxfBYGB6SEqszmxJxd97A'\\n'-zcZNlO0JwZHppan8rGkBQ'\\n'-hzkQ8YIkExQse3vX0HOcg'\\n'-sHaV6At__T1RJQXiR6d0g'\\n'-xBv8p9jzOkMyGlY07FMTA'\\n'-f5EhKQb7jPtDl1eYDwV0w'\\n'-WZIxGXJHMGidZXRhKxP3w'\\n'-_npP9XdyzILAjtFfX8UAQ'\\n'-ftQeUsqwDkExRg6IYrubQ'\\n'-XlBQrxN_ZB3MZKxLBeAjA'\\n'-sC66z4SO3tR7nFCjfQwuQ'\\n'-JpZiiGPKOuCEiODGNyovw'\\n'-aDuOZelvBHWKh-NrXooow'\\n'-szHsdbd5-J0by2d62T3Hg'\\n'-q_VodbABJygOSuv86LOtw'\\n'-vaGR2CXNS4NZrMdctSkGA'\\n'-h-q6zTIdPlkz9BDP11sBg'\\n'-w0g2HkH2Ncxbs_QDtsf-A'\\n'-NOet8xJLGhX-eUzSIDc2Q'\\n'-dy88UgxJPIAkgVPkoNU-w'\\n'-UT6IHfVW_2yzz1bf8WI5g'\\n'-HnNSLlmNbesJ7NF5CmgFg'\\n'-fA9y44FrK8nTRxjyntfTw'\\n'-TulfYOMTsrqVVvjJRk4Fg'\\n'-yTdxWCadi8Kn1H05getKQ'\\n'-MaIpPCz4153Uh1pnzI3AA'\\n'-hWBlyI2k95yjU-cgwCKJg'\\n'-Nc6vbO6nXoefulN1Knl9A'\\n'-PF0u3x21vsTjmHfEFRQhg'\\n'-tKlJDgHrJDkU7EL9c8f3A'\\n'-PyniZNMQuB5u99nr6dYVw'\\n'-K5a0_06H7FYRqqiREHjtA'\\n'-jbHH3mB9SsSDb8nOGvMSw'\\n'-Dpp6uTdNmVCrX5GGJhk1w'\\n'-_jLCD1NWODEXfgEAKfUAg'\\n\""
      ]
     },
     "execution_count": 82,
     "metadata": {},
     "output_type": "execute_result"
    }
   ],
   "source": [
    "print len(restr_dict.items())\n",
    "print business_feature_df['business_id'][22]\n",
    "\n",
    "# 2878 which is less than the total number of restaurants\n",
    "# Missed ids (hash collisions?)\n",
    "\"\"\"\n",
    "'-lOSaCuBRAvX5JBifx-EMw'\n",
    "'-AAig9FG0s8gYE4f8GfowQ'\n",
    "'-S7aL8dVIiXjCdbTZVn8uA'\n",
    "'-yPdEze6bYRV2Sm1t4XJhg'\n",
    "'-SS0C3OoPhVVBFCFfDWB2A'\n",
    "'-nHYKkSJuQ7zzFZ1veRfPg'\n",
    "'-KZA7UoULw_pM3jBBUzb8A'\n",
    "'-d1I0dwtCg1IIjnI3DZ38Q'\n",
    "'-Ogv7rpcgUHkFaSy3vD8Sw'\n",
    "'-gefwOTDqW9HWGDvWBPSMQ'\n",
    "'-mz0Zr0Dw6ZASg7_ah1R8A'\n",
    "'-KEU36ohRQb19mrbA65Y3Q'\n",
    "'-yzl8Zm-MmSqx31VN7vB0Q'\n",
    "'-yxfBYGB6SEqszmxJxd97A'\n",
    "'-zcZNlO0JwZHppan8rGkBQ'\n",
    "'-hzkQ8YIkExQse3vX0HOcg'\n",
    "'-sHaV6At__T1RJQXiR6d0g'\n",
    "'-xBv8p9jzOkMyGlY07FMTA'\n",
    "'-f5EhKQb7jPtDl1eYDwV0w'\n",
    "'-WZIxGXJHMGidZXRhKxP3w'\n",
    "'-_npP9XdyzILAjtFfX8UAQ'\n",
    "'-ftQeUsqwDkExRg6IYrubQ'\n",
    "'-XlBQrxN_ZB3MZKxLBeAjA'\n",
    "'-sC66z4SO3tR7nFCjfQwuQ'\n",
    "'-JpZiiGPKOuCEiODGNyovw'\n",
    "'-aDuOZelvBHWKh-NrXooow'\n",
    "'-szHsdbd5-J0by2d62T3Hg'\n",
    "'-q_VodbABJygOSuv86LOtw'\n",
    "'-vaGR2CXNS4NZrMdctSkGA'\n",
    "'-h-q6zTIdPlkz9BDP11sBg'\n",
    "'-w0g2HkH2Ncxbs_QDtsf-A'\n",
    "'-NOet8xJLGhX-eUzSIDc2Q'\n",
    "'-dy88UgxJPIAkgVPkoNU-w'\n",
    "'-UT6IHfVW_2yzz1bf8WI5g'\n",
    "'-HnNSLlmNbesJ7NF5CmgFg'\n",
    "'-fA9y44FrK8nTRxjyntfTw'\n",
    "'-TulfYOMTsrqVVvjJRk4Fg'\n",
    "'-yTdxWCadi8Kn1H05getKQ'\n",
    "'-MaIpPCz4153Uh1pnzI3AA'\n",
    "'-hWBlyI2k95yjU-cgwCKJg'\n",
    "'-Nc6vbO6nXoefulN1Knl9A'\n",
    "'-PF0u3x21vsTjmHfEFRQhg'\n",
    "'-tKlJDgHrJDkU7EL9c8f3A'\n",
    "'-PyniZNMQuB5u99nr6dYVw'\n",
    "'-K5a0_06H7FYRqqiREHjtA'\n",
    "'-jbHH3mB9SsSDb8nOGvMSw'\n",
    "'-Dpp6uTdNmVCrX5GGJhk1w'\n",
    "'-_jLCD1NWODEXfgEAKfUAg'\n",
    "\"\"\""
   ]
  },
  {
   "cell_type": "code",
   "execution_count": 36,
   "metadata": {
    "collapsed": false
   },
   "outputs": [
    {
     "name": "stdout",
     "output_type": "stream",
     "text": [
      "Number of records 2925\n",
      "Number of unique records 2878\n"
     ]
    }
   ],
   "source": [
    "# Doing some sanity check.\n",
    "\n",
    "import pandas as pd\n",
    "\n",
    "restr_df = pd.read_csv('../Data files/Phoenix/restaurants_dense.csv')\n",
    "\n",
    "print \"Number of records {}\".format(len(restr_df['business_id']))\n",
    "\n",
    "print \"Number of unique records {}\".format(len(set(restr_df['business_id'])))\n",
    "\n"
   ]
  },
  {
   "cell_type": "code",
   "execution_count": 40,
   "metadata": {
    "collapsed": false
   },
   "outputs": [
    {
     "ename": "TypeError",
     "evalue": "unsupported operand type(s) for <<: 'str' and 'int'",
     "output_type": "error",
     "traceback": [
      "\u001b[1;31m---------------------------------------------------------------------------\u001b[0m",
      "\u001b[1;31mTypeError\u001b[0m                                 Traceback (most recent call last)",
      "\u001b[1;32m<ipython-input-40-a5de965af23a>\u001b[0m in \u001b[0;36m<module>\u001b[1;34m()\u001b[0m\n\u001b[1;32m----> 1\u001b[1;33m \u001b[0mhash\u001b[0m\u001b[1;33m(\u001b[0m\u001b[1;34m'-lOSaCuBRAvX5JBifx-EMw'\u001b[0m\u001b[1;33m)\u001b[0m\u001b[1;33m\u001b[0m\u001b[0m\n\u001b[0m\u001b[0;32m      2\u001b[0m \u001b[0mhash\u001b[0m\u001b[1;33m(\u001b[0m\u001b[1;34m'-AAig9FG0s8gYE4f8GfowQ'\u001b[0m\u001b[1;33m)\u001b[0m\u001b[1;33m\u001b[0m\u001b[0m\n",
      "\u001b[1;32m<ipython-input-34-e6d3d1a40ba1>\u001b[0m in \u001b[0;36mhash\u001b[1;34m(string)\u001b[0m\n\u001b[0;32m      1\u001b[0m \u001b[1;31m# Python's hash implementation for dict\u001b[0m\u001b[1;33m\u001b[0m\u001b[1;33m\u001b[0m\u001b[0m\n\u001b[0;32m      2\u001b[0m \u001b[1;32mdef\u001b[0m \u001b[0mhash\u001b[0m\u001b[1;33m(\u001b[0m\u001b[0mstring\u001b[0m\u001b[1;33m)\u001b[0m\u001b[1;33m:\u001b[0m\u001b[1;33m\u001b[0m\u001b[0m\n\u001b[1;32m----> 3\u001b[1;33m     \u001b[0mx\u001b[0m \u001b[1;33m=\u001b[0m \u001b[0mstring\u001b[0m\u001b[1;33m[\u001b[0m\u001b[1;36m0\u001b[0m\u001b[1;33m]\u001b[0m \u001b[1;33m<<\u001b[0m \u001b[1;36m7\u001b[0m\u001b[1;33m\u001b[0m\u001b[0m\n\u001b[0m\u001b[0;32m      4\u001b[0m     \u001b[1;32mfor\u001b[0m \u001b[0mchr\u001b[0m \u001b[1;32min\u001b[0m \u001b[0mstring\u001b[0m\u001b[1;33m[\u001b[0m\u001b[1;36m1\u001b[0m\u001b[1;33m:\u001b[0m\u001b[1;33m]\u001b[0m\u001b[1;33m:\u001b[0m\u001b[1;33m\u001b[0m\u001b[0m\n\u001b[0;32m      5\u001b[0m         \u001b[0mx\u001b[0m \u001b[1;33m=\u001b[0m \u001b[1;33m(\u001b[0m\u001b[1;33m(\u001b[0m\u001b[1;36m1000003\u001b[0m \u001b[1;33m*\u001b[0m \u001b[0mx\u001b[0m\u001b[1;33m)\u001b[0m \u001b[1;33m^\u001b[0m \u001b[0mchr\u001b[0m\u001b[1;33m)\u001b[0m \u001b[1;33m&\u001b[0m \u001b[1;33m(\u001b[0m\u001b[1;36m1\u001b[0m\u001b[1;33m<<\u001b[0m\u001b[1;36m32\u001b[0m\u001b[1;33m)\u001b[0m\u001b[1;33m\u001b[0m\u001b[0m\n",
      "\u001b[1;31mTypeError\u001b[0m: unsupported operand type(s) for <<: 'str' and 'int'"
     ]
    }
   ],
   "source": []
  },
  {
   "cell_type": "code",
   "execution_count": 74,
   "metadata": {
    "collapsed": false
   },
   "outputs": [
    {
     "name": "stdout",
     "output_type": "stream",
     "text": [
      "'-lOSaCuBRAvX5JBifx-EMw'\n",
      "'-AAig9FG0s8gYE4f8GfowQ'\n",
      "'-S7aL8dVIiXjCdbTZVn8uA'\n",
      "'-yPdEze6bYRV2Sm1t4XJhg'\n",
      "'-SS0C3OoPhVVBFCFfDWB2A'\n",
      "'-nHYKkSJuQ7zzFZ1veRfPg'\n",
      "'-KZA7UoULw_pM3jBBUzb8A'\n",
      "'-d1I0dwtCg1IIjnI3DZ38Q'\n",
      "'-Ogv7rpcgUHkFaSy3vD8Sw'\n",
      "'-gefwOTDqW9HWGDvWBPSMQ'\n",
      "'-mz0Zr0Dw6ZASg7_ah1R8A'\n",
      "'-KEU36ohRQb19mrbA65Y3Q'\n",
      "'-yzl8Zm-MmSqx31VN7vB0Q'\n",
      "'-yxfBYGB6SEqszmxJxd97A'\n",
      "'-zcZNlO0JwZHppan8rGkBQ'\n",
      "'-hzkQ8YIkExQse3vX0HOcg'\n",
      "'-sHaV6At__T1RJQXiR6d0g'\n",
      "'-xBv8p9jzOkMyGlY07FMTA'\n",
      "'-f5EhKQb7jPtDl1eYDwV0w'\n",
      "'-WZIxGXJHMGidZXRhKxP3w'\n",
      "'-_npP9XdyzILAjtFfX8UAQ'\n",
      "'-ftQeUsqwDkExRg6IYrubQ'\n",
      "'-XlBQrxN_ZB3MZKxLBeAjA'\n",
      "'-sC66z4SO3tR7nFCjfQwuQ'\n",
      "'-JpZiiGPKOuCEiODGNyovw'\n",
      "'-aDuOZelvBHWKh-NrXooow'\n",
      "'-szHsdbd5-J0by2d62T3Hg'\n",
      "'-q_VodbABJygOSuv86LOtw'\n",
      "'-vaGR2CXNS4NZrMdctSkGA'\n",
      "'-h-q6zTIdPlkz9BDP11sBg'\n",
      "'-w0g2HkH2Ncxbs_QDtsf-A'\n",
      "'-NOet8xJLGhX-eUzSIDc2Q'\n",
      "'-dy88UgxJPIAkgVPkoNU-w'\n",
      "'-UT6IHfVW_2yzz1bf8WI5g'\n",
      "'-HnNSLlmNbesJ7NF5CmgFg'\n",
      "'-fA9y44FrK8nTRxjyntfTw'\n",
      "'-TulfYOMTsrqVVvjJRk4Fg'\n",
      "'-yTdxWCadi8Kn1H05getKQ'\n",
      "'-MaIpPCz4153Uh1pnzI3AA'\n",
      "'-hWBlyI2k95yjU-cgwCKJg'\n",
      "'-Nc6vbO6nXoefulN1Knl9A'\n",
      "'-PF0u3x21vsTjmHfEFRQhg'\n",
      "'-tKlJDgHrJDkU7EL9c8f3A'\n",
      "'-PyniZNMQuB5u99nr6dYVw'\n",
      "'-K5a0_06H7FYRqqiREHjtA'\n",
      "'-jbHH3mB9SsSDb8nOGvMSw'\n",
      "'-Dpp6uTdNmVCrX5GGJhk1w'\n",
      "'-_jLCD1NWODEXfgEAKfUAg'\n"
     ]
    }
   ],
   "source": [
    "# 3. Constructing the feature matrix in the order the businesses appear in user_restr_matrix.csv\n",
    "\n",
    "def find_features(business_id):\n",
    "    phx_business_dense = open('../Data files/Phoenix/restaurants_dense.csv')\n",
    "    reader = csv.reader(phx_business_dense)\n",
    "    #Skip header\n",
    "    reader.next()\n",
    "    for row in reader:\n",
    "        if row[5] == business_id:\n",
    "            return [toInt(row[1]),toInt(row[2]),toInt(row[3]),\n",
    "                    toInt(row[4]),toInt(row[8]),toInt(row[11])]\n",
    "\n",
    "def toInt(x):\n",
    "    try:\n",
    "        return int(x)\n",
    "    except:\n",
    "        # What to do if value is missing. Impute?\n",
    "        return -1\n",
    "    \n",
    "\n",
    "restr_feature_vector = []\n",
    "# Here restaurant = (business_id, idx + 1)\n",
    "for restaurant in ordered_restr_dict:\n",
    "    # first record is header\n",
    "    if restaurant[0] == 'business_id': continue\n",
    "    try:\n",
    "        all_features = restr_dict[restaurant[0]]\n",
    "        features = [toInt(all_features[1]),toInt(all_features[2]),toInt(all_features[3]),\n",
    "                    toInt(all_features[4]),toInt(all_features[8]),toInt(all_features[11])]\n",
    "        restr_feature_vector.append(features)\n",
    "    except Exception as e:\n",
    "        print e\n",
    "#         features = find_features(restaurant[0])\n",
    "#         if features is None:\n",
    "#             print restaurant[0]\n",
    "#         restr_feature_vector.append(features)\n",
    "\n",
    "        \n",
    "restr_np_array = np.asarray(restr_feature_vector)\n"
   ]
  },
  {
   "cell_type": "code",
   "execution_count": 58,
   "metadata": {
    "collapsed": false
   },
   "outputs": [
    {
     "name": "stdout",
     "output_type": "stream",
     "text": [
      "2925\n",
      "(2925L,)\n"
     ]
    }
   ],
   "source": [
    "print len(restr_feature_vector)\n",
    "print restr_np_array.shape"
   ]
  },
  {
   "cell_type": "code",
   "execution_count": 51,
   "metadata": {
    "collapsed": false
   },
   "outputs": [
    {
     "ename": "TypeError",
     "evalue": "float argument required, not numpy.ndarray",
     "output_type": "error",
     "traceback": [
      "\u001b[1;31m---------------------------------------------------------------------------\u001b[0m",
      "\u001b[1;31mTypeError\u001b[0m                                 Traceback (most recent call last)",
      "\u001b[1;32m<ipython-input-51-b266c00c7c9f>\u001b[0m in \u001b[0;36m<module>\u001b[1;34m()\u001b[0m\n\u001b[0;32m      1\u001b[0m \u001b[1;31m# 4. Save the ordered restaurant feature vector\u001b[0m\u001b[1;33m\u001b[0m\u001b[1;33m\u001b[0m\u001b[0m\n\u001b[0;32m      2\u001b[0m \u001b[1;33m\u001b[0m\u001b[0m\n\u001b[1;32m----> 3\u001b[1;33m \u001b[0mnp\u001b[0m\u001b[1;33m.\u001b[0m\u001b[0msavetxt\u001b[0m\u001b[1;33m(\u001b[0m\u001b[1;34m\"restr_feature_matrix.csv\"\u001b[0m\u001b[1;33m,\u001b[0m \u001b[0mrestr_np_array\u001b[0m\u001b[1;33m,\u001b[0m \u001b[0mdelimiter\u001b[0m\u001b[1;33m=\u001b[0m\u001b[1;34m\",\"\u001b[0m\u001b[1;33m)\u001b[0m\u001b[1;33m\u001b[0m\u001b[0m\n\u001b[0m",
      "\u001b[1;32mF:\\Programs\\Anaconda\\lib\\site-packages\\numpy\\lib\\npyio.pyc\u001b[0m in \u001b[0;36msavetxt\u001b[1;34m(fname, X, fmt, delimiter, newline, header, footer, comments)\u001b[0m\n\u001b[0;32m   1038\u001b[0m         \u001b[1;32melse\u001b[0m\u001b[1;33m:\u001b[0m\u001b[1;33m\u001b[0m\u001b[0m\n\u001b[0;32m   1039\u001b[0m             \u001b[1;32mfor\u001b[0m \u001b[0mrow\u001b[0m \u001b[1;32min\u001b[0m \u001b[0mX\u001b[0m\u001b[1;33m:\u001b[0m\u001b[1;33m\u001b[0m\u001b[0m\n\u001b[1;32m-> 1040\u001b[1;33m                 \u001b[0mfh\u001b[0m\u001b[1;33m.\u001b[0m\u001b[0mwrite\u001b[0m\u001b[1;33m(\u001b[0m\u001b[0masbytes\u001b[0m\u001b[1;33m(\u001b[0m\u001b[0mformat\u001b[0m \u001b[1;33m%\u001b[0m \u001b[0mtuple\u001b[0m\u001b[1;33m(\u001b[0m\u001b[0mrow\u001b[0m\u001b[1;33m)\u001b[0m \u001b[1;33m+\u001b[0m \u001b[0mnewline\u001b[0m\u001b[1;33m)\u001b[0m\u001b[1;33m)\u001b[0m\u001b[1;33m\u001b[0m\u001b[0m\n\u001b[0m\u001b[0;32m   1041\u001b[0m         \u001b[1;32mif\u001b[0m \u001b[0mlen\u001b[0m\u001b[1;33m(\u001b[0m\u001b[0mfooter\u001b[0m\u001b[1;33m)\u001b[0m \u001b[1;33m>\u001b[0m \u001b[1;36m0\u001b[0m\u001b[1;33m:\u001b[0m\u001b[1;33m\u001b[0m\u001b[0m\n\u001b[0;32m   1042\u001b[0m             \u001b[0mfooter\u001b[0m \u001b[1;33m=\u001b[0m \u001b[0mfooter\u001b[0m\u001b[1;33m.\u001b[0m\u001b[0mreplace\u001b[0m\u001b[1;33m(\u001b[0m\u001b[1;34m'\\n'\u001b[0m\u001b[1;33m,\u001b[0m \u001b[1;34m'\\n'\u001b[0m \u001b[1;33m+\u001b[0m \u001b[0mcomments\u001b[0m\u001b[1;33m)\u001b[0m\u001b[1;33m\u001b[0m\u001b[0m\n",
      "\u001b[1;31mTypeError\u001b[0m: float argument required, not numpy.ndarray"
     ]
    }
   ],
   "source": [
    "# 4. Save the ordered restaurant feature vector\n",
    "\n",
    "np.savetxt(\"restr_feature_matrix.csv\", restr_np_array, delimiter=\",\")\n"
   ]
  },
  {
   "cell_type": "code",
   "execution_count": null,
   "metadata": {
    "collapsed": true
   },
   "outputs": [],
   "source": []
  }
 ],
 "metadata": {
  "kernelspec": {
   "display_name": "Python 2",
   "language": "python",
   "name": "python2"
  },
  "language_info": {
   "codemirror_mode": {
    "name": "ipython",
    "version": 2
   },
   "file_extension": ".py",
   "mimetype": "text/x-python",
   "name": "python",
   "nbconvert_exporter": "python",
   "pygments_lexer": "ipython2",
   "version": "2.7.11"
  }
 },
 "nbformat": 4,
 "nbformat_minor": 0
}
