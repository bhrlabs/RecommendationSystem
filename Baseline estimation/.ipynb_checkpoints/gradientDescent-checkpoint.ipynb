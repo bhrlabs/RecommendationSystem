{
 "cells": [
  {
   "cell_type": "code",
   "execution_count": 43,
   "metadata": {
    "collapsed": false
   },
   "outputs": [
    {
     "name": "stdout",
     "output_type": "stream",
     "text": [
      "[[ 0.9   1.    0.99  0.1   0.  ]\n",
      " [ 0.    0.01  0.    1.    0.9 ]]\n",
      "[[5 5 0 0]\n",
      " [5 0 0 0]\n",
      " [0 4 0 0]\n",
      " [0 0 5 4]\n",
      " [0 0 5 0]]\n"
     ]
    }
   ],
   "source": [
    "import numpy as np\n",
    "\n",
    "# X - Restaurants x Users\n",
    "# Each row corresponds to user vector\n",
    "X = np.asarray([[5,5,0,0],[5,0,0,0],[0,4,0,0],[0,0,5,4],[0,0,5,0]])\n",
    "\n",
    "# Y is Feature vector of all restaurants. One row is a single feature vector\n",
    "# of one restaurant. Number of features = 2\n",
    "Y = np.transpose(np.asarray(\n",
    "[[ 0.9, 0 ],\n",
    " [ 1, 0.01],\n",
    " [ 0.99 , 0],\n",
    " [ 0.1  , 1],\n",
    " [ 0   ,0.9]]))\n",
    "\n",
    "print Y\n",
    "print X\n",
    "# print np.random.randn(10) #y\n",
    "# print np.random.randn(10, 5) #x"
   ]
  },
  {
   "cell_type": "code",
   "execution_count": 44,
   "metadata": {
    "collapsed": false
   },
   "outputs": [
    {
     "data": {
      "text/plain": [
       "SGDRegressor(alpha=0.0001, average=False, epsilon=0.1, eta0=0.01,\n",
       "       fit_intercept=True, l1_ratio=0.15, learning_rate='invscaling',\n",
       "       loss='squared_loss', n_iter=5, penalty='l2', power_t=0.25,\n",
       "       random_state=None, shuffle=True, verbose=0, warm_start=False)"
      ]
     },
     "execution_count": 44,
     "metadata": {},
     "output_type": "execute_result"
    }
   ],
   "source": [
    "# Running gradient descent on one feature of business\n",
    "from sklearn import linear_model\n",
    "\n",
    "model = linear_model.SGDRegressor()\n",
    "# Here Y[0] indicates one feature of the business.\n",
    "model.fit(X, Y[0])\n"
   ]
  },
  {
   "cell_type": "code",
   "execution_count": 45,
   "metadata": {
    "collapsed": false
   },
   "outputs": [
    {
     "data": {
      "text/plain": [
       "array([ 0.11389222,  0.10094335,  0.00114642,  0.00655039])"
      ]
     },
     "execution_count": 45,
     "metadata": {},
     "output_type": "execute_result"
    }
   ],
   "source": [
    "# Our parameters needed\n",
    "\n",
    "model.coef_"
   ]
  },
  {
   "cell_type": "code",
   "execution_count": null,
   "metadata": {
    "collapsed": true
   },
   "outputs": [],
   "source": []
  }
 ],
 "metadata": {
  "kernelspec": {
   "display_name": "Python 2",
   "language": "python",
   "name": "python2"
  },
  "language_info": {
   "codemirror_mode": {
    "name": "ipython",
    "version": 2
   },
   "file_extension": ".py",
   "mimetype": "text/x-python",
   "name": "python",
   "nbconvert_exporter": "python",
   "pygments_lexer": "ipython2",
   "version": "2.7.11"
  }
 },
 "nbformat": 4,
 "nbformat_minor": 0
}
