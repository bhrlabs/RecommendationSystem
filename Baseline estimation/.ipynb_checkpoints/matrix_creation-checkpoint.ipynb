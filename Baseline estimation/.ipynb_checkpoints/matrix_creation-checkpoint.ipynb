{
 "metadata": {
  "name": "",
  "signature": "sha256:62bde7e13869fa39bce5ad372015535390b930a2209c0cee2343b035e22301f0"
 },
 "nbformat": 3,
 "nbformat_minor": 0,
 "worksheets": [
  {
   "cells": [
    {
     "cell_type": "code",
     "collapsed": false,
     "input": [
      "# Creating a matrix User x Business for content based filtering\n",
      "# Dimensions - 64968 * 2926\n",
      "import pandas as pd\n",
      "import numpy as np\n",
      "import csv\n",
      "from sets import Set\n",
      "# Storing all Phoenix-specific reviews\n",
      "df = pd.read_csv('C:\\SMLProj\\RecommendationSystem\\Baseline estimation\\phx_rating.csv')"
     ],
     "language": "python",
     "metadata": {},
     "outputs": [],
     "prompt_number": 67
    },
    {
     "cell_type": "code",
     "collapsed": false,
     "input": [
      "# 1. Creating a dictionary of Phoenix restaurants\n",
      "phx_business = open('C:\\Yelp\\phx.csv')\n",
      "phx_csv = csv.reader(phx_business)\n",
      "phx_data = list(phx_csv)\n",
      "restr_dict = {}\n",
      "# Dictionary format ['business_id', matrix column number]\n",
      "i = 0\n",
      "while i < len(phx_data):\n",
      "    restr_dict[phx_data[i][15]] = i    \n",
      "    i = i + 1\n",
      "print \"Total no. of unique restaurants = %d\" % len(restr_dict)"
     ],
     "language": "python",
     "metadata": {},
     "outputs": [
      {
       "output_type": "stream",
       "stream": "stdout",
       "text": [
        "Total no. of unique restaurants = 2926\n"
       ]
      }
     ],
     "prompt_number": 68
    },
    {
     "cell_type": "code",
     "collapsed": false,
     "input": [
      "# 2. Creating a dictionary of Phoenix users\n",
      "user_dict = {}\n",
      "first = False\n",
      "j = 0\n",
      "# Dictionary format ['user_id', matrix row number]\n",
      "for index, row in df.iterrows():\n",
      "    #ignoring 1st row\n",
      "    if first is False:\n",
      "        first = True\n",
      "        continue\n",
      "    if row[0] not in user_dict:\n",
      "        user_dict[row[0]] = j\n",
      "        j = j + 1    \n",
      "print \"Total no. of unique users = %d\" % len(user_dict)\n",
      "# A sample entry\n",
      "# print user_dict['t95D1tnWvAOy2sxXnI3GUA']"
     ],
     "language": "python",
     "metadata": {},
     "outputs": [
      {
       "output_type": "stream",
       "stream": "stdout",
       "text": [
        "Total no. of unique users = 64968\n"
       ]
      }
     ],
     "prompt_number": 69
    },
    {
     "cell_type": "code",
     "collapsed": false,
     "input": [
      "# 3. Create a numpy matrix\n",
      "\n",
      "users_restr = np.zeros((int(len(user_dict)),int(len(restr_dict))))\n",
      "print users_restr.shape"
     ],
     "language": "python",
     "metadata": {},
     "outputs": [
      {
       "output_type": "stream",
       "stream": "stdout",
       "text": [
        "(64968L, 2926L)\n"
       ]
      }
     ],
     "prompt_number": 51
    },
    {
     "cell_type": "code",
     "collapsed": false,
     "input": [
      "# 4. Run through Phoenix reviews, create the matrix\n",
      "for index, row in df.iterrows():\n",
      "    users_restr[int(user_dict[row[0]]) , int(restr_dict[row[2]])] = row[3]"
     ],
     "language": "python",
     "metadata": {},
     "outputs": [],
     "prompt_number": 70
    },
    {
     "cell_type": "code",
     "collapsed": false,
     "input": [
      "print users_restr[2]"
     ],
     "language": "python",
     "metadata": {},
     "outputs": [
      {
       "output_type": "stream",
       "stream": "stdout",
       "text": [
        "[ 0.  3.  0. ...,  0.  0.  0.]\n"
       ]
      }
     ],
     "prompt_number": 71
    },
    {
     "cell_type": "code",
     "collapsed": false,
     "input": [
      "# 5. Creating a CSV file of the matrix\n",
      "# takes ~ 4GB\n",
      "# np.savetxt(\"user_restr_matrix.csv\", users_restr, delimiter=\",\")"
     ],
     "language": "python",
     "metadata": {},
     "outputs": [],
     "prompt_number": 66
    }
   ],
   "metadata": {}
  }
 ]
}