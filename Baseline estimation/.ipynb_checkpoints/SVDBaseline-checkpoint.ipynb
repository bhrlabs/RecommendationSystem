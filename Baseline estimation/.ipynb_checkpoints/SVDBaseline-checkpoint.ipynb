{
 "cells": [
  {
   "cell_type": "markdown",
   "metadata": {},
   "source": [
    "# SVD Baseline Approximation"
   ]
  },
  {
   "cell_type": "code",
   "execution_count": 1,
   "metadata": {
    "collapsed": false
   },
   "outputs": [
    {
     "name": "stdout",
     "output_type": "stream",
     "text": [
      "150819\n",
      "37705\n"
     ]
    }
   ],
   "source": [
    "import csv\n",
    "import pandas as pd\n",
    "import numpy as np\n",
    "from sklearn.cross_validation import train_test_split\n",
    "df = pd.read_csv('phx_rating.csv')\n",
    "train, test = train_test_split(df, test_size = 0.2)\n",
    "print len(train)\n",
    "print len(test)"
   ]
  },
  {
   "cell_type": "markdown",
   "metadata": {
    "collapsed": false
   },
   "source": [
    "#### Creating dictionaries of restaurants and users"
   ]
  },
  {
   "cell_type": "code",
   "execution_count": 3,
   "metadata": {
    "collapsed": false
   },
   "outputs": [],
   "source": [
    "restr_dict = {}\n",
    "user_dict = {}\n",
    "rest_cnt = 0\n",
    "user_cnt = 0\n",
    "for index, row in train.iterrows():\n",
    "    if row[0] not in user_dict:        \n",
    "        user_dict[row[0]] = user_cnt\n",
    "        user_cnt = user_cnt + 1\n",
    "    if row[2] not in restr_dict:        \n",
    "        restr_dict[row[2]] = rest_cnt\n",
    "        rest_cnt = rest_cnt + 1"
   ]
  },
  {
   "cell_type": "code",
   "execution_count": 4,
   "metadata": {
    "collapsed": false
   },
   "outputs": [
    {
     "name": "stdout",
     "output_type": "stream",
     "text": [
      "56617\n",
      "2921\n"
     ]
    }
   ],
   "source": [
    "print user_cnt\n",
    "print rest_cnt"
   ]
  },
  {
   "cell_type": "markdown",
   "metadata": {
    "collapsed": false
   },
   "source": [
    "#### Creating a numpy matrix"
   ]
  },
  {
   "cell_type": "code",
   "execution_count": 5,
   "metadata": {
    "collapsed": false
   },
   "outputs": [
    {
     "name": "stdout",
     "output_type": "stream",
     "text": [
      "(56617L, 2921L)\n"
     ]
    }
   ],
   "source": [
    "users_restr = np.zeros((int(len(user_dict)),int(len(restr_dict))))\n",
    "print users_restr.shape"
   ]
  },
  {
   "cell_type": "code",
   "execution_count": 6,
   "metadata": {
    "collapsed": true
   },
   "outputs": [],
   "source": [
    "for index, row in train.iterrows():\n",
    "    try:\n",
    "        users_restr[int(user_dict[row[0]]) , int(restr_dict[row[2]])] = row[3]\n",
    "    except Exception as e:\n",
    "        print e\n",
    "        continue"
   ]
  },
  {
   "cell_type": "markdown",
   "metadata": {},
   "source": [
    "#### Getting avg stars for each restaurant to make data dense"
   ]
  },
  {
   "cell_type": "code",
   "execution_count": 49,
   "metadata": {
    "collapsed": false
   },
   "outputs": [],
   "source": [
    "phx_business = open('../Data files/Phoenix/Restaurants_Phoenix.csv')\n",
    "phx_csv = csv.reader(phx_business)\n",
    "phx_data = list(phx_csv)\n",
    "r_avg_dict = {}\n",
    "header = True\n",
    "i = 1\n",
    "while i < len(phx_data):    \n",
    "    avg_rat = phx_data[i][61]    \n",
    "    b_id = phx_data[i][15]    \n",
    "    r_avg_dict[b_id] = float(avg_rat)\n",
    "    i = i + 1"
   ]
  },
  {
   "cell_type": "code",
   "execution_count": 50,
   "metadata": {
    "collapsed": false
   },
   "outputs": [
    {
     "name": "stdout",
     "output_type": "stream",
     "text": [
      "2925\n"
     ]
    }
   ],
   "source": [
    "print len(r_avg_dict)"
   ]
  },
  {
   "cell_type": "markdown",
   "metadata": {},
   "source": [
    "#### Replacing every 0 entry with restaurant average"
   ]
  },
  {
   "cell_type": "code",
   "execution_count": 51,
   "metadata": {
    "collapsed": false
   },
   "outputs": [],
   "source": [
    "for key in restr_dict:\n",
    "    i = 0\n",
    "    while i < user_cnt:\n",
    "        if users_restr[i][restr_dict[key]] == 0:\n",
    "            users_restr[i][restr_dict[key]] = r_avg_dict[key]\n",
    "        i = i + 1"
   ]
  },
  {
   "cell_type": "markdown",
   "metadata": {},
   "source": [
    "#### Finding avg user rating"
   ]
  },
  {
   "cell_type": "code",
   "execution_count": 54,
   "metadata": {
    "collapsed": false
   },
   "outputs": [],
   "source": [
    "u_avg_rat = {}\n",
    "# dict in the form of ['userid',(no. of reviews by the user, sum of all ratings)]\n",
    "\n",
    "for index, row in train.iterrows(): \n",
    "    if row[0] not in u_avg_rat:\n",
    "        u_avg_rat[row[0]] = (1 , int(row[3]))\n",
    "    else:\n",
    "        tup = u_avg_rat[row[0]]\n",
    "        new_tup = (tup[0] + 1 , tup[1] + int(row[3]))\n",
    "        u_avg_rat[row[0]] = new_tup"
   ]
  },
  {
   "cell_type": "code",
   "execution_count": 66,
   "metadata": {
    "collapsed": false
   },
   "outputs": [
    {
     "name": "stdout",
     "output_type": "stream",
     "text": [
      "Total no. of unique users = 56617\n"
     ]
    }
   ],
   "source": [
    "print \"Total no. of unique users = %d\" % len(u_avg_rat)\n",
    "#print u_avg_rat['t95D1tnWvAOy2sxXnI3GUA']"
   ]
  },
  {
   "cell_type": "markdown",
   "metadata": {},
   "source": [
    "#### Normalizing each element in the matrix by subtracting from avg user rating"
   ]
  },
  {
   "cell_type": "code",
   "execution_count": 67,
   "metadata": {
    "collapsed": false
   },
   "outputs": [],
   "source": [
    "for key in user_dict:\n",
    "    i = 0\n",
    "    pos = user_dict[key]\n",
    "    tup = u_avg_rat[key]\n",
    "    user_avg_rating = tup[1] / tup[0]\n",
    "    while i < rest_cnt:\n",
    "        users_restr[pos][i] -= user_avg_rating            \n",
    "        i = i + 1"
   ]
  },
  {
   "cell_type": "markdown",
   "metadata": {},
   "source": [
    "#### Finally calculating the SVD"
   ]
  },
  {
   "cell_type": "code",
   "execution_count": null,
   "metadata": {
    "collapsed": false
   },
   "outputs": [],
   "source": [
    "U, s, V = np.linalg.svd(users_restr, full_matrices=False)"
   ]
  },
  {
   "cell_type": "code",
   "execution_count": 95,
   "metadata": {
    "collapsed": false
   },
   "outputs": [
    {
     "name": "stdout",
     "output_type": "stream",
     "text": [
      "(56617L, 2921L)\n",
      "(2921L,)\n",
      "(2921L, 2921L)\n"
     ]
    }
   ],
   "source": [
    "print U.shape\n",
    "print s.shape\n",
    "print V.shape"
   ]
  },
  {
   "cell_type": "code",
   "execution_count": 98,
   "metadata": {
    "collapsed": false
   },
   "outputs": [
    {
     "name": "stdout",
     "output_type": "stream",
     "text": [
      "(2921L, 2921L)\n"
     ]
    }
   ],
   "source": [
    "S = np.diag(s)\n",
    "print S.shape"
   ]
  },
  {
   "cell_type": "markdown",
   "metadata": {},
   "source": [
    "### Reducing to top k dimensions for a list of k values"
   ]
  },
  {
   "cell_type": "code",
   "execution_count": 128,
   "metadata": {
    "collapsed": true
   },
   "outputs": [],
   "source": [
    "kvals = list(range(5,21))\n",
    "kvals.append(25)\n",
    "kvals.append(50)\n",
    "kvals.append(100)"
   ]
  },
  {
   "cell_type": "markdown",
   "metadata": {},
   "source": [
    "#### Predicting and calculating error"
   ]
  },
  {
   "cell_type": "code",
   "execution_count": 131,
   "metadata": {
    "collapsed": false
   },
   "outputs": [],
   "source": [
    "all_rmse = []\n",
    "all_mae = []\n",
    "for DIM in kvals:\n",
    "    U1 = U[:, :DIM]\n",
    "    S1 = S[:DIM, :DIM]\n",
    "    V1 = V.T[:, :DIM].T\n",
    "    S12 = np.sqrt(S1)\n",
    "    A1 = np.dot(U1,S12)\n",
    "    A2 = np.dot(S12,V1)\n",
    "    meancnt = 0\n",
    "    mae_par = 0\n",
    "    rmse_par = 0\n",
    "    for index, row in test.iterrows(): \n",
    "        if row[0] in user_dict and row[2] in restr_dict:\n",
    "            meancnt += 1\n",
    "            actual = float(row[3])\n",
    "            pred = np.dot(A1[user_dict[row[0]],:] , A2[:,restr_dict[row[2]]])\n",
    "            tup = u_avg_rat[row[0]]\n",
    "            tup_avg = tup[1] / tup[0]\n",
    "            pred += tup_avg\n",
    "            rmse_par += (pred - actual) ** 2\n",
    "            mae_par += abs(pred - actual)\n",
    "    all_rmse.append((rmse_par / meancnt) ** 0.5)\n",
    "    all_mae.append(mae_par / meancnt)"
   ]
  },
  {
   "cell_type": "markdown",
   "metadata": {},
   "source": [
    "#### Printing out the errors, we get a RMSE = 1.138214 and MAE = 0.886604"
   ]
  },
  {
   "cell_type": "code",
   "execution_count": 133,
   "metadata": {
    "collapsed": false
   },
   "outputs": [
    {
     "name": "stdout",
     "output_type": "stream",
     "text": [
      "[1.1382637052454978, 1.1383221742099854, 1.1382532019720524, 1.1383680738827862, 1.1385241381360096, 1.1385558718017861, 1.1382144655433262, 1.1382176822156005, 1.1384274028911141, 1.1386196192409745, 1.1385662079402188, 1.1385449567345192, 1.1384014034900731, 1.1384502910755108, 1.1384575714074536, 1.1386494432901069, 1.1389579503432394, 1.1395250452205996, 1.140204839159803]\n",
      "[0.88664308099826794, 0.88670625652862001, 0.88660430101038301, 0.88672896739585971, 0.88681778560204561, 0.88689219197229663, 0.88683872497047311, 0.88682211092816554, 0.88705552137081456, 0.88723571861847017, 0.88719823388931829, 0.88709469840083843, 0.88720383540504089, 0.88739603729439109, 0.88723596399631577, 0.88742518993845532, 0.88760804986841535, 0.88802185063597372, 0.88710847745503085]\n",
      "1.13821446554\n",
      "0.88660430101\n"
     ]
    }
   ],
   "source": [
    "print all_rmse\n",
    "print all_mae\n",
    "print min(all_rmse)\n",
    "print min(all_mae)"
   ]
  },
  {
   "cell_type": "code",
   "execution_count": 155,
   "metadata": {
    "collapsed": false
   },
   "outputs": [],
   "source": [
    "import matplotlib\n",
    "matplotlib.style.use('ggplot')\n",
    "ts = pd.Series(all_rmse, index=kvals)"
   ]
  },
  {
   "cell_type": "code",
   "execution_count": 156,
   "metadata": {
    "collapsed": true
   },
   "outputs": [],
   "source": [
    "ts = ts.cumsum()"
   ]
  },
  {
   "cell_type": "code",
   "execution_count": 157,
   "metadata": {
    "collapsed": false
   },
   "outputs": [],
   "source": [
    "ts.plot();"
   ]
  },
  {
   "cell_type": "code",
   "execution_count": null,
   "metadata": {
    "collapsed": true
   },
   "outputs": [],
   "source": []
  }
 ],
 "metadata": {
  "kernelspec": {
   "display_name": "Python 2",
   "language": "python",
   "name": "python2"
  },
  "language_info": {
   "codemirror_mode": {
    "name": "ipython",
    "version": 2
   },
   "file_extension": ".py",
   "mimetype": "text/x-python",
   "name": "python",
   "nbconvert_exporter": "python",
   "pygments_lexer": "ipython2",
   "version": "2.7.11"
  }
 },
 "nbformat": 4,
 "nbformat_minor": 0
}
