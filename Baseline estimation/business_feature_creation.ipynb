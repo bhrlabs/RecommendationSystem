{
 "cells": [
  {
   "cell_type": "code",
   "execution_count": null,
   "metadata": {
    "collapsed": true
   },
   "outputs": [],
   "source": [
    "from collections import defaultdict\n",
    "import numpy as np\n",
    "import operator\n",
    "\n",
    "RESTAURANTS_PHOENIX = '../Data files/Phoenix/Restaurants_Phoenix.csv'"
   ]
  },
  {
   "cell_type": "code",
   "execution_count": null,
   "metadata": {
    "collapsed": true
   },
   "outputs": [],
   "source": [
    "# 1. Creating a dictionary of Phoenix restaurants\n",
    "phx_business = open(RESTAURANTS_PHOENIX)\n",
    "phx_business_csv = csv.reader(phx_business)\n",
    "phx_business_data = list(phx_csv)\n",
    "restr_dict = {}\n",
    "\n",
    "# Dictionary format ['business_id', matrix column number]\n",
    "i = 0\n",
    "header = True\n",
    "while i < len(phx_business_data) - 1:\n",
    "    if header:\n",
    "        header = False\n",
    "        continue\n",
    "    restr_dict[phx_business_data[i + 1][15]] = i\n",
    "    i = i + 1\n",
    "print \"Total no. of unique restaurants = %d\" % len(restr_dict)"
   ]
  },
  {
   "cell_type": "code",
   "execution_count": null,
   "metadata": {
    "collapsed": true
   },
   "outputs": [],
   "source": [
    "# 2. Order the Phoenix restaurants based on the matrix column number\n",
    "\n",
    "ordered_restr_dict = sorted(restr_dict.items(), key=operator.itemgetter(1))"
   ]
  },
  {
   "cell_type": "code",
   "execution_count": null,
   "metadata": {
    "collapsed": true
   },
   "outputs": [],
   "source": [
    "# 3. Construct business x cuisine matrix including missing businesses in cuisine_matrix.csv\n",
    "\n",
    "business_cuisines_csv = open('../Utilities/cuisine_matrix.csv')\n",
    "reader = csv.reader(business_cuisines_csv)\n",
    "n_cols = 0\n",
    "\n",
    "# cuisine_dict = {'business_id': [feature_vector]}\n",
    "cuisine_dict = defaultdict()\n",
    "header = reader.next()\n",
    "for row in reader:\n",
    "    cuisine_dict[row[0]] = row[1:]\n",
    "    n_cols = len(row[1:])\n",
    "\n",
    "# restr_feature_vector currently holds only cuisine related data as features\n",
    "restr_feature_vector = []\n",
    "restr_feature_vector.append(header)\n",
    "for restaurant in ordered_restr_dict:\n",
    "    try:\n",
    "        features = cuisine_dict[restaurant[0]]\n",
    "        all_features = [restuarant[0]]\n",
    "        for feature in features:\n",
    "            all_features.append(int(feature))\n",
    "    except Exception as e:\n",
    "        all_features = [restaurant[0]] + [0]*n_cols\n",
    "    restr_feature_vector.append(all_features)\n",
    "\n",
    "print \"Created the feature vector\""
   ]
  },
  {
   "cell_type": "code",
   "execution_count": 1,
   "metadata": {
    "collapsed": false
   },
   "outputs": [
    {
     "ename": "IOError",
     "evalue": "[Errno 2] No such file or directory: '../Data/Cuisine_matrix.csv'",
     "output_type": "error",
     "traceback": [
      "\u001b[1;31m---------------------------------------------------------------------------\u001b[0m",
      "\u001b[1;31mIOError\u001b[0m                                   Traceback (most recent call last)",
      "\u001b[1;32m<ipython-input-1-964e138cb106>\u001b[0m in \u001b[0;36m<module>\u001b[1;34m()\u001b[0m\n\u001b[0;32m      1\u001b[0m \u001b[1;31m# 4. Saving the restr_feature_vector to the csv file\u001b[0m\u001b[1;33m\u001b[0m\u001b[1;33m\u001b[0m\u001b[0m\n\u001b[0;32m      2\u001b[0m \u001b[1;33m\u001b[0m\u001b[0m\n\u001b[1;32m----> 3\u001b[1;33m \u001b[1;32mwith\u001b[0m \u001b[0mopen\u001b[0m\u001b[1;33m(\u001b[0m\u001b[1;34m'../Data/Cuisine_matrix.csv'\u001b[0m\u001b[1;33m,\u001b[0m \u001b[1;34m'w'\u001b[0m\u001b[1;33m)\u001b[0m \u001b[1;32mas\u001b[0m \u001b[0mcuisine_csv\u001b[0m\u001b[1;33m:\u001b[0m\u001b[1;33m\u001b[0m\u001b[0m\n\u001b[0m\u001b[0;32m      4\u001b[0m     \u001b[1;32mprint\u001b[0m \u001b[1;34m\"Writing Restaurant Features to Cuisine_Matrix.csv\"\u001b[0m\u001b[1;33m\u001b[0m\u001b[0m\n\u001b[0;32m      5\u001b[0m     \u001b[0mcuisine_writer\u001b[0m \u001b[1;33m=\u001b[0m \u001b[0mcsv\u001b[0m\u001b[1;33m.\u001b[0m\u001b[0mwriter\u001b[0m\u001b[1;33m(\u001b[0m\u001b[0mcuisine_csv\u001b[0m\u001b[1;33m)\u001b[0m\u001b[1;33m\u001b[0m\u001b[0m\n",
      "\u001b[1;31mIOError\u001b[0m: [Errno 2] No such file or directory: '../Data/Cuisine_matrix.csv'"
     ]
    }
   ],
   "source": [
    "# 4. Saving the restr_feature_vector to the csv file\n",
    "\n",
    "with open('../Data/Cuisine_matrix.csv', 'w') as cuisine_csv:\n",
    "    print \"Writing Restaurant Features to Cuisine_Matrix.csv\"\n",
    "    cuisine_writer = csv.writer(cuisine_csv)\n",
    "    cuisine_writer.writerows(restr_feature_vector)\n",
    "\n",
    "print \"Done\""
   ]
  },
  {
   "cell_type": "code",
   "execution_count": null,
   "metadata": {
    "collapsed": true
   },
   "outputs": [],
   "source": []
  }
 ],
 "metadata": {
  "kernelspec": {
   "display_name": "Python 2",
   "language": "python",
   "name": "python2"
  },
  "language_info": {
   "codemirror_mode": {
    "name": "ipython",
    "version": 2
   },
   "file_extension": ".py",
   "mimetype": "text/x-python",
   "name": "python",
   "nbconvert_exporter": "python",
   "pygments_lexer": "ipython2",
   "version": "2.7.11"
  }
 },
 "nbformat": 4,
 "nbformat_minor": 0
}
