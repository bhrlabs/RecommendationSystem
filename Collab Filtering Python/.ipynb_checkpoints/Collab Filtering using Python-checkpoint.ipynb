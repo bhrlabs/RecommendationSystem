{
 "cells": [
  {
   "cell_type": "code",
   "execution_count": 2,
   "metadata": {
    "collapsed": false
   },
   "outputs": [
    {
     "name": "stdout",
     "output_type": "stream",
     "text": [
      "150819\n",
      "37705\n"
     ]
    }
   ],
   "source": [
    "import csv\n",
    "import pandas as pd\n",
    "import numpy as np\n",
    "from sklearn.cross_validation import train_test_split\n",
    "df = pd.read_csv('..\\Baseline Estimation\\phx_rating.csv')\n",
    "train, test = train_test_split(df, test_size = 0.2)\n",
    "print len(train)\n",
    "print len(test)"
   ]
  },
  {
   "cell_type": "code",
   "execution_count": 3,
   "metadata": {
    "collapsed": true
   },
   "outputs": [],
   "source": [
    "restr_dict = {}\n",
    "user_dict = {}\n",
    "rest_cnt = 0\n",
    "user_cnt = 0\n",
    "for index, row in train.iterrows():\n",
    "    if row[0] not in user_dict:        \n",
    "        user_dict[row[0]] = user_cnt\n",
    "        user_cnt = user_cnt + 1\n",
    "    if row[2] not in restr_dict:        \n",
    "        restr_dict[row[2]] = rest_cnt\n",
    "        rest_cnt = rest_cnt + 1"
   ]
  },
  {
   "cell_type": "code",
   "execution_count": 4,
   "metadata": {
    "collapsed": false
   },
   "outputs": [
    {
     "name": "stdout",
     "output_type": "stream",
     "text": [
      "(56699L, 2917L)\n"
     ]
    }
   ],
   "source": [
    "users_restr = np.zeros((int(len(user_dict)),int(len(restr_dict))))\n",
    "print users_restr.shape"
   ]
  },
  {
   "cell_type": "code",
   "execution_count": 5,
   "metadata": {
    "collapsed": true
   },
   "outputs": [],
   "source": [
    "for index, row in train.iterrows():\n",
    "    try:\n",
    "        users_restr[int(user_dict[row[0]]) , int(restr_dict[row[2]])] = row[3]\n",
    "    except Exception as e:\n",
    "        print e\n",
    "        continue"
   ]
  },
  {
   "cell_type": "code",
   "execution_count": 6,
   "metadata": {
    "collapsed": true
   },
   "outputs": [],
   "source": [
    "phx_business = open('../Data files/Phoenix/Restaurants_Phoenix.csv')\n",
    "phx_csv = csv.reader(phx_business)\n",
    "phx_data = list(phx_csv)\n",
    "r_avg_dict = {}\n",
    "header = True\n",
    "i = 1\n",
    "while i < len(phx_data):    \n",
    "    avg_rat = phx_data[i][61]    \n",
    "    b_id = phx_data[i][15]    \n",
    "    r_avg_dict[b_id] = float(avg_rat)\n",
    "    i = i + 1"
   ]
  },
  {
   "cell_type": "code",
   "execution_count": 7,
   "metadata": {
    "collapsed": true
   },
   "outputs": [],
   "source": [
    "for key in restr_dict:\n",
    "    i = 0\n",
    "    while i < user_cnt:\n",
    "        if users_restr[i][restr_dict[key]] == 0:\n",
    "            users_restr[i][restr_dict[key]] = r_avg_dict[key]\n",
    "        i = i + 1"
   ]
  },
  {
   "cell_type": "code",
   "execution_count": 8,
   "metadata": {
    "collapsed": true
   },
   "outputs": [],
   "source": [
    "u_avg_rat = {}\n",
    "# dict in the form of ['userid',(no. of reviews by the user, sum of all ratings)]\n",
    "\n",
    "for index, row in train.iterrows(): \n",
    "    if row[0] not in u_avg_rat:\n",
    "        u_avg_rat[row[0]] = (1 , int(row[3]))\n",
    "    else:\n",
    "        tup = u_avg_rat[row[0]]\n",
    "        new_tup = (tup[0] + 1 , tup[1] + int(row[3]))\n",
    "        u_avg_rat[row[0]] = new_tup"
   ]
  },
  {
   "cell_type": "code",
   "execution_count": 9,
   "metadata": {
    "collapsed": true
   },
   "outputs": [],
   "source": [
    "for key in user_dict:\n",
    "    i = 0\n",
    "    pos = user_dict[key]\n",
    "    tup = u_avg_rat[key]\n",
    "    user_avg_rating = tup[1] / tup[0]\n",
    "    while i < rest_cnt:\n",
    "        users_restr[pos][i] -= user_avg_rating            \n",
    "        i = i + 1"
   ]
  },
  {
   "cell_type": "markdown",
   "metadata": {},
   "source": [
    "### Done with preprocessing"
   ]
  },
  {
   "cell_type": "code",
   "execution_count": null,
   "metadata": {
    "collapsed": true
   },
   "outputs": [],
   "source": []
  }
 ],
 "metadata": {
  "kernelspec": {
   "display_name": "Python 2",
   "language": "python",
   "name": "python2"
  },
  "language_info": {
   "codemirror_mode": {
    "name": "ipython",
    "version": 2
   },
   "file_extension": ".py",
   "mimetype": "text/x-python",
   "name": "python",
   "nbconvert_exporter": "python",
   "pygments_lexer": "ipython2",
   "version": "2.7.11"
  }
 },
 "nbformat": 4,
 "nbformat_minor": 0
}
